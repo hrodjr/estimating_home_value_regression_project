{
 "cells": [
  {
   "cell_type": "code",
   "execution_count": 1,
   "id": "d9322f2e",
   "metadata": {},
   "outputs": [],
   "source": [
    "#libraries\n",
    "import pandas as pd\n",
    "import numpy as np\n",
    "import seaborn as sns\n",
    "import matplotlib.pyplot as plt\n",
    "#ignore warnings\n",
    "import warnings\n",
    "warnings.filterwarnings('ignore')\n",
    "#pipeline imports\n",
    "import env\n",
    "#project library\n",
    "from acquire import get_zillow_data\n",
    "from prepare import clean_data, get_hist, get_box, remove_outliers, train_validate_test_split\n",
    "from explore import explore_univariate, exp_bivariate_categorical, exp_bivariate_continuous, exp_multivariate, exp_bivariate_categorical\n",
    "from evaluate import scale_it, rfe, select_kbest, get_baseline, get_residuals, plot_residual, regression_errors, baseline_mean_errors, better_than_baseline\n",
    "from model import model_baseline, linear_regression, tweedieregressor, lassolars, polynomialregression, model_test, plot_test_residuals, plot_distributions\n",
    "#stats imports\n",
    "from scipy import stats\n",
    "from scipy.stats import pearsonr, spearmanr\n",
    "#sklearn imports\n",
    "from sklearn.linear_model import LinearRegression, LassoLars, TweedieRegressor\n",
    "from sklearn.metrics import mean_squared_error, r2_score, explained_variance_score\n",
    "from sklearn.feature_selection import SelectKBest, f_regression, RFE\n",
    "from sklearn.preprocessing import MinMaxScaler, RobustScaler, StandardScaler, QuantileTransformer\n",
    "from sklearn.preprocessing import PolynomialFeatures\n",
    "from sklearn.model_selection import train_test_split\n",
    "#math import\n",
    "from math import sqrt\n",
    "#Hypothesis alpha\n",
    "alpha = .05"
   ]
  },
  {
   "cell_type": "markdown",
   "id": "df40b68e",
   "metadata": {},
   "source": [
    "# Executive Summary\n",
    "- Predictions of single unit properties of single unit properties between the months of May and August 2017.\n",
    "- Bathrooms, bedrooms and square footage where the primary key features that drove tax values followed by location.\n",
    "- All Counites located in California:\n",
    "    - 6037 Los Angeles County\n",
    "    - 6111 Ventura County\n",
    "    - 6059 Orange County\n",
    "- With more time I would like to have explore more single units, age and property type.\n",
    "- Each of my hypothesis testing rejected the null and accepts the alternate as follows:\n",
    "    - Tax value is dependent of homes in 6059.\n",
    "    - Tax value is dependent on three or more bathrooms.\n",
    "    - Tax value is dependent on four or more bedrooms.\n",
    "    - Tax value and square footage are lineraly correlated."
   ]
  },
  {
   "cell_type": "markdown",
   "id": "c7585db5",
   "metadata": {},
   "source": [
    "## Planning\n",
    "##### I want to find out if tax values differ for each of the following scenarios:\n",
    "    - tax value to number of bathrooms\n",
    "    - tax value to number of bedrooms\n",
    "    - tax value to square footage\n",
    "    - tax value to county"
   ]
  },
  {
   "cell_type": "markdown",
   "id": "ba70317c",
   "metadata": {},
   "source": [
    "## Data Acquisition\n",
    "- Predict the values of single unit properties that the tax district assesses using the property data from those with a transaction during the \"hot months\" (in terms of real estate demand) of May-August, 2017."
   ]
  },
  {
   "cell_type": "code",
   "execution_count": 2,
   "id": "d3aa89cd",
   "metadata": {},
   "outputs": [
    {
     "data": {
      "text/html": [
       "<div>\n",
       "<style scoped>\n",
       "    .dataframe tbody tr th:only-of-type {\n",
       "        vertical-align: middle;\n",
       "    }\n",
       "\n",
       "    .dataframe tbody tr th {\n",
       "        vertical-align: top;\n",
       "    }\n",
       "\n",
       "    .dataframe thead th {\n",
       "        text-align: right;\n",
       "    }\n",
       "</style>\n",
       "<table border=\"1\" class=\"dataframe\">\n",
       "  <thead>\n",
       "    <tr style=\"text-align: right;\">\n",
       "      <th></th>\n",
       "      <th>bathroomcnt</th>\n",
       "      <th>bedroomcnt</th>\n",
       "      <th>fips</th>\n",
       "      <th>yearbuilt</th>\n",
       "      <th>taxvaluedollarcnt</th>\n",
       "      <th>taxamount</th>\n",
       "      <th>calculatedfinishedsquarefeet</th>\n",
       "    </tr>\n",
       "  </thead>\n",
       "  <tbody>\n",
       "    <tr>\n",
       "      <th>0</th>\n",
       "      <td>2.0</td>\n",
       "      <td>3.0</td>\n",
       "      <td>6037.0</td>\n",
       "      <td>1923.0</td>\n",
       "      <td>205123.0</td>\n",
       "      <td>2627.48</td>\n",
       "      <td>1316.0</td>\n",
       "    </tr>\n",
       "  </tbody>\n",
       "</table>\n",
       "</div>"
      ],
      "text/plain": [
       "   bathroomcnt  bedroomcnt    fips  yearbuilt  taxvaluedollarcnt  taxamount  \\\n",
       "0          2.0         3.0  6037.0     1923.0           205123.0    2627.48   \n",
       "\n",
       "   calculatedfinishedsquarefeet  \n",
       "0                        1316.0  "
      ]
     },
     "execution_count": 2,
     "metadata": {},
     "output_type": "execute_result"
    }
   ],
   "source": [
    "df = get_zillow_data()\n",
    "df.head(1)"
   ]
  },
  {
   "cell_type": "code",
   "execution_count": 3,
   "id": "52bc94ca",
   "metadata": {},
   "outputs": [
    {
     "name": "stdout",
     "output_type": "stream",
     "text": [
      "<class 'pandas.core.frame.DataFrame'>\n",
      "RangeIndex: 28124 entries, 0 to 28123\n",
      "Data columns (total 7 columns):\n",
      " #   Column                        Non-Null Count  Dtype  \n",
      "---  ------                        --------------  -----  \n",
      " 0   bathroomcnt                   28124 non-null  float64\n",
      " 1   bedroomcnt                    28124 non-null  float64\n",
      " 2   fips                          28124 non-null  float64\n",
      " 3   yearbuilt                     28053 non-null  float64\n",
      " 4   taxvaluedollarcnt             28123 non-null  float64\n",
      " 5   taxamount                     28123 non-null  float64\n",
      " 6   calculatedfinishedsquarefeet  28077 non-null  float64\n",
      "dtypes: float64(7)\n",
      "memory usage: 1.5 MB\n"
     ]
    }
   ],
   "source": [
    "df.info()"
   ]
  },
  {
   "cell_type": "markdown",
   "id": "2049b4dc",
   "metadata": {},
   "source": [
    "##### Key Takeaways\n",
    "- Columns need to be renamed\n",
    "- Counts are off on a few columns, suggesting there may be nulls\n",
    "- All columns are float dat types"
   ]
  },
  {
   "cell_type": "code",
   "execution_count": 4,
   "id": "819705ce",
   "metadata": {},
   "outputs": [
    {
     "data": {
      "text/html": [
       "<div>\n",
       "<style scoped>\n",
       "    .dataframe tbody tr th:only-of-type {\n",
       "        vertical-align: middle;\n",
       "    }\n",
       "\n",
       "    .dataframe tbody tr th {\n",
       "        vertical-align: top;\n",
       "    }\n",
       "\n",
       "    .dataframe thead th {\n",
       "        text-align: right;\n",
       "    }\n",
       "</style>\n",
       "<table border=\"1\" class=\"dataframe\">\n",
       "  <thead>\n",
       "    <tr style=\"text-align: right;\">\n",
       "      <th></th>\n",
       "      <th>count</th>\n",
       "      <th>mean</th>\n",
       "      <th>std</th>\n",
       "      <th>min</th>\n",
       "      <th>25%</th>\n",
       "      <th>50%</th>\n",
       "      <th>75%</th>\n",
       "      <th>max</th>\n",
       "    </tr>\n",
       "  </thead>\n",
       "  <tbody>\n",
       "    <tr>\n",
       "      <th>bathroomcnt</th>\n",
       "      <td>28124.0</td>\n",
       "      <td>2.316509</td>\n",
       "      <td>1.016983</td>\n",
       "      <td>0.00</td>\n",
       "      <td>2.00</td>\n",
       "      <td>2.00</td>\n",
       "      <td>3.000</td>\n",
       "      <td>11.00</td>\n",
       "    </tr>\n",
       "    <tr>\n",
       "      <th>bedroomcnt</th>\n",
       "      <td>28124.0</td>\n",
       "      <td>3.309487</td>\n",
       "      <td>0.943073</td>\n",
       "      <td>0.00</td>\n",
       "      <td>3.00</td>\n",
       "      <td>3.00</td>\n",
       "      <td>4.000</td>\n",
       "      <td>12.00</td>\n",
       "    </tr>\n",
       "    <tr>\n",
       "      <th>fips</th>\n",
       "      <td>28124.0</td>\n",
       "      <td>6049.521121</td>\n",
       "      <td>21.302136</td>\n",
       "      <td>6037.00</td>\n",
       "      <td>6037.00</td>\n",
       "      <td>6037.00</td>\n",
       "      <td>6059.000</td>\n",
       "      <td>6111.00</td>\n",
       "    </tr>\n",
       "    <tr>\n",
       "      <th>yearbuilt</th>\n",
       "      <td>28053.0</td>\n",
       "      <td>1963.773179</td>\n",
       "      <td>23.108952</td>\n",
       "      <td>1878.00</td>\n",
       "      <td>1950.00</td>\n",
       "      <td>1961.00</td>\n",
       "      <td>1979.000</td>\n",
       "      <td>2016.00</td>\n",
       "    </tr>\n",
       "    <tr>\n",
       "      <th>taxvaluedollarcnt</th>\n",
       "      <td>28123.0</td>\n",
       "      <td>535004.915763</td>\n",
       "      <td>707681.057984</td>\n",
       "      <td>1000.00</td>\n",
       "      <td>198636.00</td>\n",
       "      <td>382798.00</td>\n",
       "      <td>632767.000</td>\n",
       "      <td>23858374.00</td>\n",
       "    </tr>\n",
       "    <tr>\n",
       "      <th>taxamount</th>\n",
       "      <td>28123.0</td>\n",
       "      <td>6508.829263</td>\n",
       "      <td>8221.720405</td>\n",
       "      <td>51.26</td>\n",
       "      <td>2705.33</td>\n",
       "      <td>4735.28</td>\n",
       "      <td>7528.405</td>\n",
       "      <td>276797.83</td>\n",
       "    </tr>\n",
       "    <tr>\n",
       "      <th>calculatedfinishedsquarefeet</th>\n",
       "      <td>28077.0</td>\n",
       "      <td>1934.930014</td>\n",
       "      <td>995.684457</td>\n",
       "      <td>240.00</td>\n",
       "      <td>1278.00</td>\n",
       "      <td>1675.00</td>\n",
       "      <td>2326.000</td>\n",
       "      <td>17245.00</td>\n",
       "    </tr>\n",
       "  </tbody>\n",
       "</table>\n",
       "</div>"
      ],
      "text/plain": [
       "                                count           mean            std      min  \\\n",
       "bathroomcnt                   28124.0       2.316509       1.016983     0.00   \n",
       "bedroomcnt                    28124.0       3.309487       0.943073     0.00   \n",
       "fips                          28124.0    6049.521121      21.302136  6037.00   \n",
       "yearbuilt                     28053.0    1963.773179      23.108952  1878.00   \n",
       "taxvaluedollarcnt             28123.0  535004.915763  707681.057984  1000.00   \n",
       "taxamount                     28123.0    6508.829263    8221.720405    51.26   \n",
       "calculatedfinishedsquarefeet  28077.0    1934.930014     995.684457   240.00   \n",
       "\n",
       "                                    25%        50%         75%          max  \n",
       "bathroomcnt                        2.00       2.00       3.000        11.00  \n",
       "bedroomcnt                         3.00       3.00       4.000        12.00  \n",
       "fips                            6037.00    6037.00    6059.000      6111.00  \n",
       "yearbuilt                       1950.00    1961.00    1979.000      2016.00  \n",
       "taxvaluedollarcnt             198636.00  382798.00  632767.000  23858374.00  \n",
       "taxamount                       2705.33    4735.28    7528.405    276797.83  \n",
       "calculatedfinishedsquarefeet    1278.00    1675.00    2326.000     17245.00  "
      ]
     },
     "execution_count": 4,
     "metadata": {},
     "output_type": "execute_result"
    }
   ],
   "source": [
    "df.describe().T"
   ]
  },
  {
   "cell_type": "markdown",
   "id": "774a7a19",
   "metadata": {},
   "source": [
    "##### Key Takeaways\n",
    "- Average home is 3 bedroom, 2 baths, built in 1963, and with a square footage of 1934.\n",
    "- Value of the average home is 535,000 dollars\n",
    "- Home owners pay an average of 6,508 dollars\n",
    "- Ignore fips count. It is counted as an float."
   ]
  },
  {
   "cell_type": "code",
   "execution_count": 5,
   "id": "90fe9e15",
   "metadata": {},
   "outputs": [
    {
     "data": {
      "text/plain": [
       "(28124, 7)"
      ]
     },
     "execution_count": 5,
     "metadata": {},
     "output_type": "execute_result"
    }
   ],
   "source": [
    "df.shape"
   ]
  },
  {
   "cell_type": "code",
   "execution_count": 6,
   "id": "44c94873",
   "metadata": {},
   "outputs": [
    {
     "data": {
      "text/plain": [
       "bathroomcnt                      0\n",
       "bedroomcnt                       0\n",
       "fips                             0\n",
       "yearbuilt                       71\n",
       "taxvaluedollarcnt                1\n",
       "taxamount                        1\n",
       "calculatedfinishedsquarefeet    47\n",
       "dtype: int64"
      ]
     },
     "execution_count": 6,
     "metadata": {},
     "output_type": "execute_result"
    }
   ],
   "source": [
    "df.isnull().sum()"
   ]
  },
  {
   "cell_type": "markdown",
   "id": "ef1e79e5",
   "metadata": {},
   "source": [
    "##### Key Takeaways\n",
    "- As identified in the data summary there is several columns that have nulls to be filled."
   ]
  },
  {
   "cell_type": "markdown",
   "id": "b4ff2985",
   "metadata": {},
   "source": [
    "## Prepare Data\n",
    "- Based on the project details the following went into consideration:\n",
    "    1. Calculated tax rate dividing taxamount by taxvaluedollarcnt\n",
    "    2. Calculated age of home vice using year built by subtracting today's date by yearbuilt\n",
    "    3. Filled all nulls with the respective mean values\n",
    "    4. Dropped respective columns\n",
    "    5. Converted all but tax_rate to integers. Left tax_rate as float."
   ]
  },
  {
   "cell_type": "code",
   "execution_count": 7,
   "id": "5a0724e4",
   "metadata": {},
   "outputs": [
    {
     "data": {
      "text/html": [
       "<div>\n",
       "<style scoped>\n",
       "    .dataframe tbody tr th:only-of-type {\n",
       "        vertical-align: middle;\n",
       "    }\n",
       "\n",
       "    .dataframe tbody tr th {\n",
       "        vertical-align: top;\n",
       "    }\n",
       "\n",
       "    .dataframe thead th {\n",
       "        text-align: right;\n",
       "    }\n",
       "</style>\n",
       "<table border=\"1\" class=\"dataframe\">\n",
       "  <thead>\n",
       "    <tr style=\"text-align: right;\">\n",
       "      <th></th>\n",
       "      <th>bathrooms</th>\n",
       "      <th>bedrooms</th>\n",
       "      <th>county_code</th>\n",
       "      <th>tax_value</th>\n",
       "      <th>square_feet</th>\n",
       "      <th>age</th>\n",
       "      <th>tax_rate</th>\n",
       "    </tr>\n",
       "  </thead>\n",
       "  <tbody>\n",
       "    <tr>\n",
       "      <th>0</th>\n",
       "      <td>2</td>\n",
       "      <td>3</td>\n",
       "      <td>6037</td>\n",
       "      <td>205123</td>\n",
       "      <td>1316</td>\n",
       "      <td>98</td>\n",
       "      <td>0.012809</td>\n",
       "    </tr>\n",
       "  </tbody>\n",
       "</table>\n",
       "</div>"
      ],
      "text/plain": [
       "   bathrooms  bedrooms  county_code  tax_value  square_feet  age  tax_rate\n",
       "0          2         3         6037     205123         1316   98  0.012809"
      ]
     },
     "execution_count": 7,
     "metadata": {},
     "output_type": "execute_result"
    }
   ],
   "source": [
    "df = clean_data(df)\n",
    "df.head(1)"
   ]
  },
  {
   "cell_type": "code",
   "execution_count": 8,
   "id": "5d4ae583",
   "metadata": {},
   "outputs": [
    {
     "name": "stdout",
     "output_type": "stream",
     "text": [
      "<class 'pandas.core.frame.DataFrame'>\n",
      "RangeIndex: 28124 entries, 0 to 28123\n",
      "Data columns (total 7 columns):\n",
      " #   Column       Non-Null Count  Dtype  \n",
      "---  ------       --------------  -----  \n",
      " 0   bathrooms    28124 non-null  int64  \n",
      " 1   bedrooms     28124 non-null  int64  \n",
      " 2   county_code  28124 non-null  int64  \n",
      " 3   tax_value    28124 non-null  int64  \n",
      " 4   square_feet  28124 non-null  int64  \n",
      " 5   age          28124 non-null  int64  \n",
      " 6   tax_rate     28124 non-null  float64\n",
      "dtypes: float64(1), int64(6)\n",
      "memory usage: 1.5 MB\n"
     ]
    }
   ],
   "source": [
    "df.info()"
   ]
  },
  {
   "cell_type": "markdown",
   "id": "735f9c9a",
   "metadata": {},
   "source": [
    "#### Visualize prepared dataset"
   ]
  },
  {
   "cell_type": "code",
   "execution_count": 9,
   "id": "c03c738e",
   "metadata": {},
   "outputs": [
    {
     "data": {
      "image/png": "[encoded data removed]",
      "text/plain": [
       "<Figure size 1152x216 with 6 Axes>"
      ]
     },
     "metadata": {
      "needs_background": "light"
     },
     "output_type": "display_data"
    },
    {
     "data": {
      "image/png": "[encoded data removed]",
      "text/plain": [
       "<Figure size 1152x216 with 6 Axes>"
      ]
     },
     "metadata": {
      "needs_background": "light"
     },
     "output_type": "display_data"
    }
   ],
   "source": [
    "get_hist(df)\n",
    "get_box(df)"
   ]
  },
  {
   "cell_type": "markdown",
   "id": "24574c7e",
   "metadata": {},
   "source": [
    "##### Takeaways\n",
    "- Remove outliers for a more balanced view of the dataset for modeling."
   ]
  },
  {
   "cell_type": "code",
   "execution_count": 10,
   "id": "bc58e168",
   "metadata": {},
   "outputs": [],
   "source": [
    "df = remove_outliers(df, k = 1.5, col_list = ['bathrooms', 'bedrooms', 'tax_value', 'tax_rate', 'square_feet', 'age'])"
   ]
  },
  {
   "cell_type": "code",
   "execution_count": 11,
   "id": "8155248a",
   "metadata": {},
   "outputs": [
    {
     "data": {
      "image/png": "[encoded data removed]",
      "text/plain": [
       "<Figure size 1152x216 with 6 Axes>"
      ]
     },
     "metadata": {
      "needs_background": "light"
     },
     "output_type": "display_data"
    },
    {
     "data": {
      "image/png": "[encoded data removed]",
      "text/plain": [
       "<Figure size 1152x216 with 6 Axes>"
      ]
     },
     "metadata": {
      "needs_background": "light"
     },
     "output_type": "display_data"
    }
   ],
   "source": [
    "get_hist(df)\n",
    "get_box(df)"
   ]
  },
  {
   "cell_type": "markdown",
   "id": "c113cee8",
   "metadata": {},
   "source": [
    "##### Takeaways\n",
    "\n",
    "1. Both tax_value and square_feet are right skewed\n",
    "2. Normal distributions amongst the other features\n",
    "3. Average home is between 2 and 3 bathrooms\n",
    "4. 3 - 4 bedrooms\n",
    "5. Average tax value is roughly 400K\n",
    "6. Average tax rate just above 1.2 percent\n",
    "7. Average square feet is just above 1500sqft\n",
    "8. The average age of homes in this dataset is 60"
   ]
  },
  {
   "cell_type": "markdown",
   "id": "6850dd1c",
   "metadata": {},
   "source": [
    "## Data Exploration"
   ]
  },
  {
   "cell_type": "markdown",
   "id": "69ba6a99",
   "metadata": {},
   "source": [
    "### Split the dataset"
   ]
  },
  {
   "cell_type": "code",
   "execution_count": 12,
   "id": "e4149a09",
   "metadata": {},
   "outputs": [],
   "source": [
    "train, validate, test = train_validate_test_split(df)"
   ]
  },
  {
   "cell_type": "code",
   "execution_count": 13,
   "id": "22c0c635",
   "metadata": {
    "scrolled": false
   },
   "outputs": [
    {
     "data": {
      "image/png": "[encoded data removed]",
      "text/plain": [
       "<Figure size 144x144 with 1 Axes>"
      ]
     },
     "metadata": {
      "needs_background": "light"
     },
     "output_type": "display_data"
    },
    {
     "name": "stdout",
     "output_type": "stream",
     "text": [
      "      county_code  Count  Percent\n",
      "6037         6037   7548    61.13\n",
      "6059         6111   3611    29.24\n",
      "6111         6059   1189     9.63\n"
     ]
    },
    {
     "data": {
      "image/png": "[encoded data removed]",
      "text/plain": [
       "<Figure size 576x144 with 2 Axes>"
      ]
     },
     "metadata": {
      "needs_background": "light"
     },
     "output_type": "display_data"
    },
    {
     "name": "stdout",
     "output_type": "stream",
     "text": [
      "count    12348.000000\n",
      "mean         2.099206\n",
      "std          0.722739\n",
      "min          1.000000\n",
      "25%          2.000000\n",
      "50%          2.000000\n",
      "75%          3.000000\n",
      "max          4.000000\n",
      "Name: bathrooms, dtype: float64\n"
     ]
    },
    {
     "data": {
      "image/png": "[encoded data removed]",
      "text/plain": [
       "<Figure size 576x144 with 2 Axes>"
      ]
     },
     "metadata": {
      "needs_background": "light"
     },
     "output_type": "display_data"
    },
    {
     "name": "stdout",
     "output_type": "stream",
     "text": [
      "count    12348.000000\n",
      "mean         3.244250\n",
      "std          0.798544\n",
      "min          2.000000\n",
      "25%          3.000000\n",
      "50%          3.000000\n",
      "75%          4.000000\n",
      "max          5.000000\n",
      "Name: bedrooms, dtype: float64\n"
     ]
    },
    {
     "data": {
      "image/png": "[encoded data removed]",
      "text/plain": [
       "<Figure size 576x144 with 2 Axes>"
      ]
     },
     "metadata": {
      "needs_background": "light"
     },
     "output_type": "display_data"
    },
    {
     "name": "stdout",
     "output_type": "stream",
     "text": [
      "count    1.234800e+04\n",
      "mean     4.163668e+05\n",
      "std      2.525879e+05\n",
      "min      1.608400e+04\n",
      "25%      2.229975e+05\n",
      "50%      3.811420e+05\n",
      "75%      5.644125e+05\n",
      "max      1.204898e+06\n",
      "Name: tax_value, dtype: float64\n"
     ]
    },
    {
     "data": {
      "image/png": "[encoded data removed]",
      "text/plain": [
       "<Figure size 576x144 with 2 Axes>"
      ]
     },
     "metadata": {
      "needs_background": "light"
     },
     "output_type": "display_data"
    },
    {
     "name": "stdout",
     "output_type": "stream",
     "text": [
      "count    12348.000000\n",
      "mean      1753.299563\n",
      "std        623.510051\n",
      "min        326.000000\n",
      "25%       1273.000000\n",
      "50%       1628.500000\n",
      "75%       2142.000000\n",
      "max       3524.000000\n",
      "Name: square_feet, dtype: float64\n"
     ]
    },
    {
     "data": {
      "image/png": "[encoded data removed]",
      "text/plain": [
       "<Figure size 576x144 with 2 Axes>"
      ]
     },
     "metadata": {
      "needs_background": "light"
     },
     "output_type": "display_data"
    },
    {
     "name": "stdout",
     "output_type": "stream",
     "text": [
      "count    12348.000000\n",
      "mean        58.181406\n",
      "std         21.069838\n",
      "min          6.000000\n",
      "25%         44.000000\n",
      "50%         60.000000\n",
      "75%         71.000000\n",
      "max        111.000000\n",
      "Name: age, dtype: float64\n"
     ]
    },
    {
     "data": {
      "image/png": "[encoded data removed]",
      "text/plain": [
       "<Figure size 576x144 with 2 Axes>"
      ]
     },
     "metadata": {
      "needs_background": "light"
     },
     "output_type": "display_data"
    },
    {
     "name": "stdout",
     "output_type": "stream",
     "text": [
      "count    12348.000000\n",
      "mean         0.012511\n",
      "std          0.001496\n",
      "min          0.008908\n",
      "25%          0.011587\n",
      "50%          0.012262\n",
      "75%          0.013175\n",
      "max          0.017044\n",
      "Name: tax_rate, dtype: float64\n"
     ]
    }
   ],
   "source": [
    "explore_univariate(train, cat_vars = ['county_code'], quant_vars = ['bathrooms', 'bedrooms', 'tax_value',        \n",
    "                                                                    'square_feet', 'age', 'tax_rate'])"
   ]
  },
  {
   "cell_type": "markdown",
   "id": "70ab42ff",
   "metadata": {},
   "source": [
    "##### Takeaways\n",
    "1. In univariate exploration I got a glimse into several possible drivers that led me to the aforementioned hypothesis:\n",
    "    - Homes in Los Angeles county make up 61% of the homes querried\n",
    "    - Homes in Ventura county make up 29.24% of the homes querried\n",
    "    - Homes in Orange county make up 9.63% of the homes querried\n",
    "    - Average bathroom count is 2\n",
    "    - Average bedroom count is 3\n",
    "    - Average tax value is 416,366 dollars\n",
    "    - Average square footage is 1,753 sqft\n",
    "    - Average home age is 58 years\n",
    "    - Average tax rate is 1.25%b"
   ]
  },
  {
   "cell_type": "markdown",
   "id": "9821287b",
   "metadata": {},
   "source": [
    "## Initial Hypothesis"
   ]
  },
  {
   "cell_type": "markdown",
   "id": "b542ca99",
   "metadata": {},
   "source": [
    "##### Initial thoughts to explore using both bivariate and multivariate exploration\n",
    "- Do homes in 6059 have haigher tax values then the rest of the population?\n",
    "- Do Homes with four baths have a higher tax value then the rest of the populations?\n",
    "- Do home with five bedrooms have a higher tax value then the rest of the population?\n",
    "- Do 5 bedroom/4 bath homes in 6059 have higher tax value then the rest of the population?"
   ]
  },
  {
   "cell_type": "markdown",
   "id": "271c0571",
   "metadata": {},
   "source": [
    "## Bivariate Exploration\n",
    "- Taking the trained data I wanted to look at tax value by county code, bathrooms, and bedrooms."
   ]
  },
  {
   "cell_type": "code",
   "execution_count": 14,
   "id": "df2f4d01",
   "metadata": {
    "scrolled": false
   },
   "outputs": [
    {
     "name": "stdout",
     "output_type": "stream",
     "text": [
      "county_code vs tax_value\n"
     ]
    },
    {
     "data": {
      "image/png": "[encoded data removed]",
      "text/plain": [
       "<Figure size 432x288 with 1 Axes>"
      ]
     },
     "metadata": {
      "needs_background": "light"
     },
     "output_type": "display_data"
    },
    {
     "name": "stdout",
     "output_type": "stream",
     "text": [
      "\n"
     ]
    },
    {
     "data": {
      "image/png": "[encoded data removed]",
      "text/plain": [
       "<Figure size 432x288 with 1 Axes>"
      ]
     },
     "metadata": {
      "needs_background": "light"
     },
     "output_type": "display_data"
    },
    {
     "name": "stdout",
     "output_type": "stream",
     "text": [
      "-------------------------------\n",
      "Mean tax_value by county_code:  \n",
      "county_code\n",
      "6037    386158.489931\n",
      "6059    468487.031847\n",
      "6111    449845.395290\n",
      "Name: tax_value, dtype: float64\n",
      "\n",
      "bathrooms vs tax_value\n"
     ]
    },
    {
     "data": {
      "image/png": "[encoded data removed]",
      "text/plain": [
       "<Figure size 432x288 with 1 Axes>"
      ]
     },
     "metadata": {
      "needs_background": "light"
     },
     "output_type": "display_data"
    },
    {
     "name": "stdout",
     "output_type": "stream",
     "text": [
      "\n"
     ]
    },
    {
     "data": {
      "image/png": "[encoded data removed]",
      "text/plain": [
       "<Figure size 432x288 with 1 Axes>"
      ]
     },
     "metadata": {
      "needs_background": "light"
     },
     "output_type": "display_data"
    },
    {
     "name": "stdout",
     "output_type": "stream",
     "text": [
      "-------------------------------\n",
      "Mean tax_value by bathrooms:  \n",
      "bathrooms\n",
      "1    307513.756838\n",
      "2    391878.319510\n",
      "3    530501.316316\n",
      "4    685958.345345\n",
      "Name: tax_value, dtype: float64\n",
      "\n",
      "bedrooms vs tax_value\n"
     ]
    },
    {
     "data": {
      "image/png": "[encoded data removed]",
      "text/plain": [
       "<Figure size 432x288 with 1 Axes>"
      ]
     },
     "metadata": {
      "needs_background": "light"
     },
     "output_type": "display_data"
    },
    {
     "name": "stdout",
     "output_type": "stream",
     "text": [
      "\n"
     ]
    },
    {
     "data": {
      "image/png": "[encoded data removed]",
      "text/plain": [
       "<Figure size 432x288 with 1 Axes>"
      ]
     },
     "metadata": {
      "needs_background": "light"
     },
     "output_type": "display_data"
    },
    {
     "name": "stdout",
     "output_type": "stream",
     "text": [
      "-------------------------------\n",
      "Mean tax_value by bedrooms:  \n",
      "bedrooms\n",
      "2    345094.749880\n",
      "3    394369.703306\n",
      "4    470058.414879\n",
      "5    529151.866197\n",
      "Name: tax_value, dtype: float64\n",
      "\n"
     ]
    }
   ],
   "source": [
    "exp_bivariate_categorical('tax_value', ['county_code', 'bathrooms', 'bedrooms'], train)"
   ]
  },
  {
   "cell_type": "markdown",
   "id": "b3867836",
   "metadata": {},
   "source": [
    "##### Bivariate exploration takeaways\n",
    "- Homes in Orange county (6059) have the highest tax value average at 468,487 dollars\n",
    "- Followed by homes in Ventura county (6111) at 449,845 dollars and Los Angeles county (6037) at 386,158 dollars\n",
    "- Homes with 4 bathrooms have a higher tax value average of 685,958 dollars\n",
    "- Homes with 5 bedrooms have a higher tax value average of 529,151 dollars"
   ]
  },
  {
   "cell_type": "markdown",
   "id": "08070c93",
   "metadata": {},
   "source": [
    "## Multivariate Exploration\n",
    "- Here I wanted to see the correlation between tax value, age, and square footage.\n",
    "- I took a sample of 1500 of the train dataset. "
   ]
  },
  {
   "cell_type": "code",
   "execution_count": 15,
   "id": "c8ea6dd5",
   "metadata": {},
   "outputs": [
    {
     "name": "stdout",
     "output_type": "stream",
     "text": [
      "age vs tax_value\n"
     ]
    },
    {
     "data": {
      "image/png": "[encoded data removed]",
      "text/plain": [
       "<Figure size 360x360 with 1 Axes>"
      ]
     },
     "metadata": {
      "needs_background": "light"
     },
     "output_type": "display_data"
    },
    {
     "name": "stdout",
     "output_type": "stream",
     "text": [
      "-------------------------------\n",
      "Correlation between age and tax_value:  -0.24124864394433143\n",
      "P value:  2.64133694471831e-21\n",
      "\n",
      "square_feet vs tax_value\n"
     ]
    },
    {
     "data": {
      "image/png": "[encoded data removed]",
      "text/plain": [
       "<Figure size 360x360 with 1 Axes>"
      ]
     },
     "metadata": {
      "needs_background": "light"
     },
     "output_type": "display_data"
    }
   ],
   "source": [
    "exp_bivariate_continuous('tax_value', ['age', 'square_feet'], train.sample(1500))"
   ]
  },
  {
   "cell_type": "markdown",
   "id": "e04c49b0",
   "metadata": {},
   "source": [
    "##### Multivariate exploration takeaways\n",
    "- Age of the home does not really play into the tax value of the home\n",
    "- The majority of homes are between 40 and 75 years old\n",
    "- Seems to be a linear corrrelation between tax value and square footage"
   ]
  },
  {
   "cell_type": "markdown",
   "id": "f27ee29a",
   "metadata": {},
   "source": [
    "## Hypothesis and Testing\n",
    "- I used a .05 alpha to test hypothesis."
   ]
  },
  {
   "cell_type": "markdown",
   "id": "2010748b",
   "metadata": {},
   "source": [
    "##### 1. Do homes in 6059 have a higer tax values? (chi2)\n",
    "- Null: Tax value is independent of homes in 6059.\n",
    "- Alternate: Tax value is dependent of homes in 6059."
   ]
  },
  {
   "cell_type": "code",
   "execution_count": 16,
   "id": "6643aa3f",
   "metadata": {},
   "outputs": [
    {
     "name": "stdout",
     "output_type": "stream",
     "text": [
      "-------------------------------\n",
      "Correlation between square_feet and tax_value:  0.45735369838659284\n",
      "P value:  2.0703843704661093e-78\n",
      "\n",
      "chi^2 = 11219.2770\n",
      "p     = 0.0000\n",
      "\n",
      "\n",
      "We reject the null and accept the alternate: Tax value is dependent of homes in 6059.\n"
     ]
    }
   ],
   "source": [
    "Null = 'Tax value is independent of homes in 6059.'\n",
    "Alternate = 'Tax value is dependent of homes in 6059.'\n",
    "\n",
    "observed = pd.crosstab(train.tax_value, train.county_code == 6059)\n",
    "chi2, p, degf, expected = stats.chi2_contingency(observed)\n",
    "\n",
    "print(f'chi^2 = {chi2:.4f}')\n",
    "print(f'p     = {p:.4f}')\n",
    "\n",
    "print('\\n')\n",
    "if p < alpha:\n",
    "    print(f'We reject the null and accept the alternate: {Alternate}')\n",
    "else:\n",
    "    print(f'We fail to reject the null and accept the null: {Null}')"
   ]
  },
  {
   "cell_type": "markdown",
   "id": "d8e50581",
   "metadata": {},
   "source": [
    "##### 2. Do homes with three or more baths have a higher tax value? (chi2)\n",
    "- Null: Tax value is independentt of three or more baths.\n",
    "- Alternate: Tax value is dependent on three or more baths."
   ]
  },
  {
   "cell_type": "code",
   "execution_count": 17,
   "id": "4f2ad162",
   "metadata": {},
   "outputs": [
    {
     "name": "stdout",
     "output_type": "stream",
     "text": [
      "chi^2 = 11051.7334\n",
      "p     = 0.0010\n",
      "\n",
      "\n",
      "We reject the null and accept the alternate: Tax value is dependent on three or more bathrooms.\n"
     ]
    }
   ],
   "source": [
    "Null = 'Tax value is independentt of three or more bathrooms.'\n",
    "Alternate = 'Tax value is dependent on three or more bathrooms.'\n",
    "\n",
    "observed = pd.crosstab(train.tax_value, train.bathrooms >= 3)\n",
    "chi2, p, degf, expected = stats.chi2_contingency(observed)\n",
    "\n",
    "print(f'chi^2 = {chi2:.4f}')\n",
    "print(f'p     = {p:.4f}')\n",
    "\n",
    "print('\\n')\n",
    "if p < alpha:\n",
    "    print(f'We reject the null and accept the alternate: {Alternate}')\n",
    "else:\n",
    "    print(f'We fail to reject the null and accept the null: {Null}')"
   ]
  },
  {
   "cell_type": "markdown",
   "id": "094cc64e",
   "metadata": {},
   "source": [
    "##### 3. Do home with four or more bedrooms have a higher tax value? (chi2)\n",
    "- Null: Tax value is independentt of four or more bedrooms.\n",
    "- Alternate: Tax value is dependent on four or more bedrooms."
   ]
  },
  {
   "cell_type": "code",
   "execution_count": 18,
   "id": "faefdf8a",
   "metadata": {},
   "outputs": [
    {
     "name": "stdout",
     "output_type": "stream",
     "text": [
      "chi^2 = 10857.0250\n",
      "p     = 0.0373\n",
      "\n",
      "\n",
      "We reject the null and accept the alternate: Tax value is dependent on four or more bedrooms.\n"
     ]
    }
   ],
   "source": [
    "Null = 'Tax value is independent of four or more bedrooms.'\n",
    "Alternate = 'Tax value is dependent on four or more bedrooms.'\n",
    "\n",
    "observed = pd.crosstab(train.tax_value, train.bedrooms >= 4)\n",
    "chi2, p, degf, expected = stats.chi2_contingency(observed)\n",
    "\n",
    "print(f'chi^2 = {chi2:.4f}')\n",
    "print(f'p     = {p:.4f}')\n",
    "\n",
    "print('\\n')\n",
    "if p < alpha:\n",
    "    print(f'We reject the null and accept the alternate: {Alternate}')\n",
    "else:\n",
    "    print(f'We fail to reject the null and accept the null: {Null}')"
   ]
  },
  {
   "cell_type": "markdown",
   "id": "a6a39383",
   "metadata": {},
   "source": [
    "##### 4. Linear correlation between tax value and square footage of the home. (pearsonr)\n",
    "- Null: Tax value and square footage are NOT lineraly correlated.\n",
    "- Alternate: Tax value and square footage are lineraly correlated."
   ]
  },
  {
   "cell_type": "code",
   "execution_count": 19,
   "id": "bc157d43",
   "metadata": {},
   "outputs": [
    {
     "name": "stdout",
     "output_type": "stream",
     "text": [
      "chi^2 = 0.4500\n",
      "p     = 0.0000\n",
      "\n",
      "\n",
      "We reject the null and accept the alternate: Tax value and square footage are lineraly correlated.\n"
     ]
    }
   ],
   "source": [
    "Null = 'Tax value and square footage are NOT lineraly correlated.'\n",
    "Alternate = 'Tax value and square footage are lineraly correlated.'\n",
    "\n",
    "corr, p = stats.pearsonr(train.tax_value, train.square_feet)\n",
    "\n",
    "print(f'chi^2 = {corr:.4f}')\n",
    "print(f'p     = {p:.4f}')\n",
    "\n",
    "print('\\n')\n",
    "if p < alpha:\n",
    "    print(f'We reject the null and accept the alternate: {Alternate}')\n",
    "else:\n",
    "    print(f'We fail to reject the null and accept the null: {Null}')"
   ]
  },
  {
   "cell_type": "markdown",
   "id": "373bb3e9",
   "metadata": {},
   "source": [
    "# Modeling"
   ]
  },
  {
   "cell_type": "markdown",
   "id": "87ff5003",
   "metadata": {},
   "source": [
    "##### Split dataset into samples\n",
    "- Target: 'tax_value'\n",
    "- Features: 'bedrooms', 'bathrooms', 'square_feet', 'county_code'"
   ]
  },
  {
   "cell_type": "code",
   "execution_count": 20,
   "id": "8a47dd5c",
   "metadata": {},
   "outputs": [],
   "source": [
    "X_train = train[['bedrooms', 'bathrooms', 'square_feet', 'county_code']]#features\n",
    "y_train = train.tax_value\n",
    "X_validate = validate[['bedrooms', 'bathrooms', 'square_feet', 'county_code']]#features\n",
    "y_validate = validate.tax_value\n",
    "X_test = test[['bedrooms', 'bathrooms', 'square_feet', 'county_code']]#features\n",
    "y_test = test.tax_value"
   ]
  },
  {
   "cell_type": "markdown",
   "id": "94867d12",
   "metadata": {},
   "source": [
    "### Scale\n",
    "- I used the standard scaler for a better fit of the dataset."
   ]
  },
  {
   "cell_type": "code",
   "execution_count": 21,
   "id": "495a7ee0",
   "metadata": {},
   "outputs": [
    {
     "data": {
      "image/png": "[encoded data removed]",
      "text/plain": [
       "<Figure size 936x432 with 2 Axes>"
      ]
     },
     "metadata": {
      "needs_background": "light"
     },
     "output_type": "display_data"
    }
   ],
   "source": [
    "scale_it(X_train, X_validate, X_test)"
   ]
  },
  {
   "cell_type": "markdown",
   "id": "c5002200",
   "metadata": {},
   "source": [
    "### Feature Engineering\n",
    "- I ran the samples through rfe and select_kbest with k and features set to one and three"
   ]
  },
  {
   "cell_type": "markdown",
   "id": "83172d06",
   "metadata": {},
   "source": [
    "##### rfe"
   ]
  },
  {
   "cell_type": "code",
   "execution_count": 22,
   "id": "a9923b76",
   "metadata": {},
   "outputs": [
    {
     "data": {
      "text/plain": [
       "Index(['square_feet'], dtype='object')"
      ]
     },
     "execution_count": 22,
     "metadata": {},
     "output_type": "execute_result"
    }
   ],
   "source": [
    "rfe(X_train, y_train,k = 1)"
   ]
  },
  {
   "cell_type": "code",
   "execution_count": 23,
   "id": "a012b801",
   "metadata": {},
   "outputs": [
    {
     "data": {
      "text/plain": [
       "Index(['bedrooms', 'bathrooms', 'square_feet'], dtype='object')"
      ]
     },
     "execution_count": 23,
     "metadata": {},
     "output_type": "execute_result"
    }
   ],
   "source": [
    "rfe(X_train, y_train,k = 3)"
   ]
  },
  {
   "cell_type": "markdown",
   "id": "be0fa80f",
   "metadata": {},
   "source": [
    "##### kbest"
   ]
  },
  {
   "cell_type": "code",
   "execution_count": 24,
   "id": "33a79e1a",
   "metadata": {},
   "outputs": [
    {
     "data": {
      "text/plain": [
       "Index(['square_feet'], dtype='object')"
      ]
     },
     "execution_count": 24,
     "metadata": {},
     "output_type": "execute_result"
    }
   ],
   "source": [
    "select_kbest(X_train,y_train,k = 1)"
   ]
  },
  {
   "cell_type": "code",
   "execution_count": 25,
   "id": "53e78185",
   "metadata": {},
   "outputs": [
    {
     "data": {
      "text/plain": [
       "Index(['bedrooms', 'bathrooms', 'square_feet'], dtype='object')"
      ]
     },
     "execution_count": 25,
     "metadata": {},
     "output_type": "execute_result"
    }
   ],
   "source": [
    "select_kbest(X_train,y_train,k = 3)"
   ]
  },
  {
   "cell_type": "markdown",
   "id": "cad7c4bf",
   "metadata": {},
   "source": [
    "##### Takeaways\n",
    "- Both the rfe and kbest both return 'square_feet' as the most significant feature, followed by number bedrooms and bathrooms."
   ]
  },
  {
   "cell_type": "markdown",
   "id": "a1622b2e",
   "metadata": {},
   "source": [
    "### Regression Modeling"
   ]
  },
  {
   "cell_type": "markdown",
   "id": "9be5c4a2",
   "metadata": {},
   "source": [
    "#### Set the baseline\n",
    "- Baseline function calculates baseline and adds columns to the dataframe"
   ]
  },
  {
   "cell_type": "code",
   "execution_count": 26,
   "id": "4e69f129",
   "metadata": {},
   "outputs": [
    {
     "data": {
      "text/html": [
       "<div>\n",
       "<style scoped>\n",
       "    .dataframe tbody tr th:only-of-type {\n",
       "        vertical-align: middle;\n",
       "    }\n",
       "\n",
       "    .dataframe tbody tr th {\n",
       "        vertical-align: top;\n",
       "    }\n",
       "\n",
       "    .dataframe thead th {\n",
       "        text-align: right;\n",
       "    }\n",
       "</style>\n",
       "<table border=\"1\" class=\"dataframe\">\n",
       "  <thead>\n",
       "    <tr style=\"text-align: right;\">\n",
       "      <th></th>\n",
       "      <th>bathrooms</th>\n",
       "      <th>bedrooms</th>\n",
       "      <th>county_code</th>\n",
       "      <th>tax_value</th>\n",
       "      <th>square_feet</th>\n",
       "      <th>age</th>\n",
       "      <th>tax_rate</th>\n",
       "      <th>yhat_baseline</th>\n",
       "      <th>yhat</th>\n",
       "    </tr>\n",
       "  </thead>\n",
       "  <tbody>\n",
       "    <tr>\n",
       "      <th>3617</th>\n",
       "      <td>1</td>\n",
       "      <td>2</td>\n",
       "      <td>6037</td>\n",
       "      <td>103274</td>\n",
       "      <td>873</td>\n",
       "      <td>66</td>\n",
       "      <td>0.012373</td>\n",
       "      <td>416366.790492</td>\n",
       "      <td>255888.499545</td>\n",
       "    </tr>\n",
       "    <tr>\n",
       "      <th>19211</th>\n",
       "      <td>2</td>\n",
       "      <td>2</td>\n",
       "      <td>6037</td>\n",
       "      <td>863392</td>\n",
       "      <td>1126</td>\n",
       "      <td>74</td>\n",
       "      <td>0.012140</td>\n",
       "      <td>416366.790492</td>\n",
       "      <td>302010.307769</td>\n",
       "    </tr>\n",
       "    <tr>\n",
       "      <th>27983</th>\n",
       "      <td>2</td>\n",
       "      <td>3</td>\n",
       "      <td>6111</td>\n",
       "      <td>542000</td>\n",
       "      <td>1613</td>\n",
       "      <td>32</td>\n",
       "      <td>0.010956</td>\n",
       "      <td>416366.790492</td>\n",
       "      <td>390790.231109</td>\n",
       "    </tr>\n",
       "    <tr>\n",
       "      <th>20172</th>\n",
       "      <td>2</td>\n",
       "      <td>3</td>\n",
       "      <td>6037</td>\n",
       "      <td>257486</td>\n",
       "      <td>1466</td>\n",
       "      <td>69</td>\n",
       "      <td>0.012915</td>\n",
       "      <td>416366.790492</td>\n",
       "      <td>363992.184434</td>\n",
       "    </tr>\n",
       "    <tr>\n",
       "      <th>22141</th>\n",
       "      <td>1</td>\n",
       "      <td>3</td>\n",
       "      <td>6037</td>\n",
       "      <td>74798</td>\n",
       "      <td>1066</td>\n",
       "      <td>96</td>\n",
       "      <td>0.012125</td>\n",
       "      <td>416366.790492</td>\n",
       "      <td>291072.329534</td>\n",
       "    </tr>\n",
       "    <tr>\n",
       "      <th>...</th>\n",
       "      <td>...</td>\n",
       "      <td>...</td>\n",
       "      <td>...</td>\n",
       "      <td>...</td>\n",
       "      <td>...</td>\n",
       "      <td>...</td>\n",
       "      <td>...</td>\n",
       "      <td>...</td>\n",
       "      <td>...</td>\n",
       "    </tr>\n",
       "    <tr>\n",
       "      <th>27567</th>\n",
       "      <td>2</td>\n",
       "      <td>3</td>\n",
       "      <td>6037</td>\n",
       "      <td>212775</td>\n",
       "      <td>1392</td>\n",
       "      <td>80</td>\n",
       "      <td>0.011133</td>\n",
       "      <td>416366.790492</td>\n",
       "      <td>350502.011277</td>\n",
       "    </tr>\n",
       "    <tr>\n",
       "      <th>21173</th>\n",
       "      <td>3</td>\n",
       "      <td>4</td>\n",
       "      <td>6111</td>\n",
       "      <td>602135</td>\n",
       "      <td>3048</td>\n",
       "      <td>32</td>\n",
       "      <td>0.012748</td>\n",
       "      <td>416366.790492</td>\n",
       "      <td>652390.210562</td>\n",
       "    </tr>\n",
       "    <tr>\n",
       "      <th>5964</th>\n",
       "      <td>3</td>\n",
       "      <td>4</td>\n",
       "      <td>6037</td>\n",
       "      <td>274033</td>\n",
       "      <td>1996</td>\n",
       "      <td>65</td>\n",
       "      <td>0.013532</td>\n",
       "      <td>416366.790492</td>\n",
       "      <td>460610.992176</td>\n",
       "    </tr>\n",
       "    <tr>\n",
       "      <th>27850</th>\n",
       "      <td>2</td>\n",
       "      <td>3</td>\n",
       "      <td>6059</td>\n",
       "      <td>559527</td>\n",
       "      <td>1176</td>\n",
       "      <td>58</td>\n",
       "      <td>0.011369</td>\n",
       "      <td>416366.790492</td>\n",
       "      <td>311125.289631</td>\n",
       "    </tr>\n",
       "    <tr>\n",
       "      <th>8208</th>\n",
       "      <td>1</td>\n",
       "      <td>3</td>\n",
       "      <td>6037</td>\n",
       "      <td>865000</td>\n",
       "      <td>1381</td>\n",
       "      <td>96</td>\n",
       "      <td>0.012178</td>\n",
       "      <td>416366.790492</td>\n",
       "      <td>348496.715267</td>\n",
       "    </tr>\n",
       "  </tbody>\n",
       "</table>\n",
       "<p>12348 rows × 9 columns</p>\n",
       "</div>"
      ],
      "text/plain": [
       "       bathrooms  bedrooms  county_code  tax_value  square_feet  age  \\\n",
       "3617           1         2         6037     103274          873   66   \n",
       "19211          2         2         6037     863392         1126   74   \n",
       "27983          2         3         6111     542000         1613   32   \n",
       "20172          2         3         6037     257486         1466   69   \n",
       "22141          1         3         6037      74798         1066   96   \n",
       "...          ...       ...          ...        ...          ...  ...   \n",
       "27567          2         3         6037     212775         1392   80   \n",
       "21173          3         4         6111     602135         3048   32   \n",
       "5964           3         4         6037     274033         1996   65   \n",
       "27850          2         3         6059     559527         1176   58   \n",
       "8208           1         3         6037     865000         1381   96   \n",
       "\n",
       "       tax_rate  yhat_baseline           yhat  \n",
       "3617   0.012373  416366.790492  255888.499545  \n",
       "19211  0.012140  416366.790492  302010.307769  \n",
       "27983  0.010956  416366.790492  390790.231109  \n",
       "20172  0.012915  416366.790492  363992.184434  \n",
       "22141  0.012125  416366.790492  291072.329534  \n",
       "...         ...            ...            ...  \n",
       "27567  0.011133  416366.790492  350502.011277  \n",
       "21173  0.012748  416366.790492  652390.210562  \n",
       "5964   0.013532  416366.790492  460610.992176  \n",
       "27850  0.011369  416366.790492  311125.289631  \n",
       "8208   0.012178  416366.790492  348496.715267  \n",
       "\n",
       "[12348 rows x 9 columns]"
      ]
     },
     "execution_count": 26,
     "metadata": {},
     "output_type": "execute_result"
    }
   ],
   "source": [
    "get_baseline(train,train[['square_feet']], train['tax_value'])"
   ]
  },
  {
   "cell_type": "markdown",
   "id": "d4a2483c",
   "metadata": {},
   "source": [
    "##### Evaluate the residuals"
   ]
  },
  {
   "cell_type": "code",
   "execution_count": 27,
   "id": "93959e11",
   "metadata": {},
   "outputs": [
    {
     "data": {
      "text/html": [
       "<div>\n",
       "<style scoped>\n",
       "    .dataframe tbody tr th:only-of-type {\n",
       "        vertical-align: middle;\n",
       "    }\n",
       "\n",
       "    .dataframe tbody tr th {\n",
       "        vertical-align: top;\n",
       "    }\n",
       "\n",
       "    .dataframe thead th {\n",
       "        text-align: right;\n",
       "    }\n",
       "</style>\n",
       "<table border=\"1\" class=\"dataframe\">\n",
       "  <thead>\n",
       "    <tr style=\"text-align: right;\">\n",
       "      <th></th>\n",
       "      <th>bathrooms</th>\n",
       "      <th>bedrooms</th>\n",
       "      <th>county_code</th>\n",
       "      <th>tax_value</th>\n",
       "      <th>square_feet</th>\n",
       "      <th>age</th>\n",
       "      <th>tax_rate</th>\n",
       "      <th>yhat_baseline</th>\n",
       "      <th>yhat</th>\n",
       "      <th>residual</th>\n",
       "      <th>residual_baseline</th>\n",
       "    </tr>\n",
       "  </thead>\n",
       "  <tbody>\n",
       "    <tr>\n",
       "      <th>3617</th>\n",
       "      <td>1</td>\n",
       "      <td>2</td>\n",
       "      <td>6037</td>\n",
       "      <td>103274</td>\n",
       "      <td>873</td>\n",
       "      <td>66</td>\n",
       "      <td>0.012373</td>\n",
       "      <td>416366.790492</td>\n",
       "      <td>255888.499545</td>\n",
       "      <td>152614.499545</td>\n",
       "      <td>313092.790492</td>\n",
       "    </tr>\n",
       "    <tr>\n",
       "      <th>19211</th>\n",
       "      <td>2</td>\n",
       "      <td>2</td>\n",
       "      <td>6037</td>\n",
       "      <td>863392</td>\n",
       "      <td>1126</td>\n",
       "      <td>74</td>\n",
       "      <td>0.012140</td>\n",
       "      <td>416366.790492</td>\n",
       "      <td>302010.307769</td>\n",
       "      <td>-561381.692231</td>\n",
       "      <td>-447025.209508</td>\n",
       "    </tr>\n",
       "    <tr>\n",
       "      <th>27983</th>\n",
       "      <td>2</td>\n",
       "      <td>3</td>\n",
       "      <td>6111</td>\n",
       "      <td>542000</td>\n",
       "      <td>1613</td>\n",
       "      <td>32</td>\n",
       "      <td>0.010956</td>\n",
       "      <td>416366.790492</td>\n",
       "      <td>390790.231109</td>\n",
       "      <td>-151209.768891</td>\n",
       "      <td>-125633.209508</td>\n",
       "    </tr>\n",
       "    <tr>\n",
       "      <th>20172</th>\n",
       "      <td>2</td>\n",
       "      <td>3</td>\n",
       "      <td>6037</td>\n",
       "      <td>257486</td>\n",
       "      <td>1466</td>\n",
       "      <td>69</td>\n",
       "      <td>0.012915</td>\n",
       "      <td>416366.790492</td>\n",
       "      <td>363992.184434</td>\n",
       "      <td>106506.184434</td>\n",
       "      <td>158880.790492</td>\n",
       "    </tr>\n",
       "    <tr>\n",
       "      <th>22141</th>\n",
       "      <td>1</td>\n",
       "      <td>3</td>\n",
       "      <td>6037</td>\n",
       "      <td>74798</td>\n",
       "      <td>1066</td>\n",
       "      <td>96</td>\n",
       "      <td>0.012125</td>\n",
       "      <td>416366.790492</td>\n",
       "      <td>291072.329534</td>\n",
       "      <td>216274.329534</td>\n",
       "      <td>341568.790492</td>\n",
       "    </tr>\n",
       "    <tr>\n",
       "      <th>...</th>\n",
       "      <td>...</td>\n",
       "      <td>...</td>\n",
       "      <td>...</td>\n",
       "      <td>...</td>\n",
       "      <td>...</td>\n",
       "      <td>...</td>\n",
       "      <td>...</td>\n",
       "      <td>...</td>\n",
       "      <td>...</td>\n",
       "      <td>...</td>\n",
       "      <td>...</td>\n",
       "    </tr>\n",
       "    <tr>\n",
       "      <th>27567</th>\n",
       "      <td>2</td>\n",
       "      <td>3</td>\n",
       "      <td>6037</td>\n",
       "      <td>212775</td>\n",
       "      <td>1392</td>\n",
       "      <td>80</td>\n",
       "      <td>0.011133</td>\n",
       "      <td>416366.790492</td>\n",
       "      <td>350502.011277</td>\n",
       "      <td>137727.011277</td>\n",
       "      <td>203591.790492</td>\n",
       "    </tr>\n",
       "    <tr>\n",
       "      <th>21173</th>\n",
       "      <td>3</td>\n",
       "      <td>4</td>\n",
       "      <td>6111</td>\n",
       "      <td>602135</td>\n",
       "      <td>3048</td>\n",
       "      <td>32</td>\n",
       "      <td>0.012748</td>\n",
       "      <td>416366.790492</td>\n",
       "      <td>652390.210562</td>\n",
       "      <td>50255.210562</td>\n",
       "      <td>-185768.209508</td>\n",
       "    </tr>\n",
       "    <tr>\n",
       "      <th>5964</th>\n",
       "      <td>3</td>\n",
       "      <td>4</td>\n",
       "      <td>6037</td>\n",
       "      <td>274033</td>\n",
       "      <td>1996</td>\n",
       "      <td>65</td>\n",
       "      <td>0.013532</td>\n",
       "      <td>416366.790492</td>\n",
       "      <td>460610.992176</td>\n",
       "      <td>186577.992176</td>\n",
       "      <td>142333.790492</td>\n",
       "    </tr>\n",
       "    <tr>\n",
       "      <th>27850</th>\n",
       "      <td>2</td>\n",
       "      <td>3</td>\n",
       "      <td>6059</td>\n",
       "      <td>559527</td>\n",
       "      <td>1176</td>\n",
       "      <td>58</td>\n",
       "      <td>0.011369</td>\n",
       "      <td>416366.790492</td>\n",
       "      <td>311125.289631</td>\n",
       "      <td>-248401.710369</td>\n",
       "      <td>-143160.209508</td>\n",
       "    </tr>\n",
       "    <tr>\n",
       "      <th>8208</th>\n",
       "      <td>1</td>\n",
       "      <td>3</td>\n",
       "      <td>6037</td>\n",
       "      <td>865000</td>\n",
       "      <td>1381</td>\n",
       "      <td>96</td>\n",
       "      <td>0.012178</td>\n",
       "      <td>416366.790492</td>\n",
       "      <td>348496.715267</td>\n",
       "      <td>-516503.284733</td>\n",
       "      <td>-448633.209508</td>\n",
       "    </tr>\n",
       "  </tbody>\n",
       "</table>\n",
       "<p>12348 rows × 11 columns</p>\n",
       "</div>"
      ],
      "text/plain": [
       "       bathrooms  bedrooms  county_code  tax_value  square_feet  age  \\\n",
       "3617           1         2         6037     103274          873   66   \n",
       "19211          2         2         6037     863392         1126   74   \n",
       "27983          2         3         6111     542000         1613   32   \n",
       "20172          2         3         6037     257486         1466   69   \n",
       "22141          1         3         6037      74798         1066   96   \n",
       "...          ...       ...          ...        ...          ...  ...   \n",
       "27567          2         3         6037     212775         1392   80   \n",
       "21173          3         4         6111     602135         3048   32   \n",
       "5964           3         4         6037     274033         1996   65   \n",
       "27850          2         3         6059     559527         1176   58   \n",
       "8208           1         3         6037     865000         1381   96   \n",
       "\n",
       "       tax_rate  yhat_baseline           yhat       residual  \\\n",
       "3617   0.012373  416366.790492  255888.499545  152614.499545   \n",
       "19211  0.012140  416366.790492  302010.307769 -561381.692231   \n",
       "27983  0.010956  416366.790492  390790.231109 -151209.768891   \n",
       "20172  0.012915  416366.790492  363992.184434  106506.184434   \n",
       "22141  0.012125  416366.790492  291072.329534  216274.329534   \n",
       "...         ...            ...            ...            ...   \n",
       "27567  0.011133  416366.790492  350502.011277  137727.011277   \n",
       "21173  0.012748  416366.790492  652390.210562   50255.210562   \n",
       "5964   0.013532  416366.790492  460610.992176  186577.992176   \n",
       "27850  0.011369  416366.790492  311125.289631 -248401.710369   \n",
       "8208   0.012178  416366.790492  348496.715267 -516503.284733   \n",
       "\n",
       "       residual_baseline  \n",
       "3617       313092.790492  \n",
       "19211     -447025.209508  \n",
       "27983     -125633.209508  \n",
       "20172      158880.790492  \n",
       "22141      341568.790492  \n",
       "...                  ...  \n",
       "27567      203591.790492  \n",
       "21173     -185768.209508  \n",
       "5964       142333.790492  \n",
       "27850     -143160.209508  \n",
       "8208      -448633.209508  \n",
       "\n",
       "[12348 rows x 11 columns]"
      ]
     },
     "execution_count": 27,
     "metadata": {},
     "output_type": "execute_result"
    }
   ],
   "source": [
    "get_residuals(train, train['tax_value'])"
   ]
  },
  {
   "cell_type": "markdown",
   "id": "0d0ca23c",
   "metadata": {},
   "source": [
    "##### Plot residual"
   ]
  },
  {
   "cell_type": "code",
   "execution_count": 28,
   "id": "de9dfbb4",
   "metadata": {},
   "outputs": [
    {
     "data": {
      "image/png": "[encoded data removed]",
      "text/plain": [
       "<Figure size 432x288 with 1 Axes>"
      ]
     },
     "metadata": {
      "needs_background": "light"
     },
     "output_type": "display_data"
    }
   ],
   "source": [
    "plot_residual(train, train[['square_feet']], train['tax_value'])"
   ]
  },
  {
   "cell_type": "markdown",
   "id": "9d9a757e",
   "metadata": {},
   "source": [
    "##### Errors"
   ]
  },
  {
   "cell_type": "code",
   "execution_count": 29,
   "id": "7d75a084",
   "metadata": {},
   "outputs": [
    {
     "data": {
      "text/plain": [
       "(50876622990.17164,\n",
       " 628224540682639.4,\n",
       " 159521775363024.0,\n",
       " 787746316045663.4,\n",
       " 225558.4691164835)"
      ]
     },
     "execution_count": 29,
     "metadata": {},
     "output_type": "execute_result"
    }
   ],
   "source": [
    "regression_errors(train, train['tax_value'], train.yhat)"
   ]
  },
  {
   "cell_type": "code",
   "execution_count": 30,
   "id": "7878dc93",
   "metadata": {},
   "outputs": [
    {
     "data": {
      "text/plain": [
       "(63795458053.58463, 787746316045663.0, 252577.62777725313)"
      ]
     },
     "execution_count": 30,
     "metadata": {},
     "output_type": "execute_result"
    }
   ],
   "source": [
    "baseline_mean_errors(train, train['tax_value'], train.yhat_baseline)"
   ]
  },
  {
   "cell_type": "markdown",
   "id": "d5281101",
   "metadata": {},
   "source": [
    "### Is the model better then the baseline"
   ]
  },
  {
   "cell_type": "code",
   "execution_count": 31,
   "id": "5c0ba414",
   "metadata": {},
   "outputs": [
    {
     "name": "stdout",
     "output_type": "stream",
     "text": [
      "The model is better then the baseline.\n"
     ]
    }
   ],
   "source": [
    "better_than_baseline(regression_errors = True, baseline_mean_errors = True)"
   ]
  },
  {
   "cell_type": "markdown",
   "id": "077d0f9e",
   "metadata": {},
   "source": [
    "# Modeling"
   ]
  },
  {
   "cell_type": "markdown",
   "id": "8674f93c",
   "metadata": {},
   "source": [
    "##### Baseline model"
   ]
  },
  {
   "cell_type": "code",
   "execution_count": 32,
   "id": "e355c280",
   "metadata": {},
   "outputs": [
    {
     "name": "stdout",
     "output_type": "stream",
     "text": [
      "RMSE using Mean\n",
      "Train/In-Sample:  252577.63 \n",
      "Validate/Out-of-Sample:  251230.56\n",
      "RMSE using Median\n",
      "Train/In-Sample:  255022.05 \n",
      "Validate/Out-of-Sample:  252468.19\n"
     ]
    }
   ],
   "source": [
    "model_baseline(y_train, y_validate, 'tax_value')"
   ]
  },
  {
   "cell_type": "markdown",
   "id": "852d8805",
   "metadata": {},
   "source": [
    "#### LinearRegression (OLS)"
   ]
  },
  {
   "cell_type": "code",
   "execution_count": 33,
   "id": "e4b67d9e",
   "metadata": {},
   "outputs": [
    {
     "name": "stdout",
     "output_type": "stream",
     "text": [
      "RMSE for OLS using LinearRegression\n",
      "Training/In-Sample:  224125.06629133702 \n",
      "Validation/Out-of-Sample:  222786.8279825475\n"
     ]
    }
   ],
   "source": [
    "linear_regression(y_train, X_train, y_validate, X_validate)"
   ]
  },
  {
   "cell_type": "markdown",
   "id": "4a808c87",
   "metadata": {},
   "source": [
    "#### LassoLars"
   ]
  },
  {
   "cell_type": "code",
   "execution_count": 34,
   "id": "afa256ce",
   "metadata": {},
   "outputs": [
    {
     "name": "stdout",
     "output_type": "stream",
     "text": [
      "RMSE for Lasso + Lars\n",
      "Training/In-Sample:  224125.2585597165 \n",
      "Validation/Out-of-Sample:  222785.17195160186\n"
     ]
    }
   ],
   "source": [
    "lassolars(y_train, X_train, y_validate, X_validate)"
   ]
  },
  {
   "cell_type": "markdown",
   "id": "81eaf93b",
   "metadata": {},
   "source": [
    "#### TweedieRegressor (GLM)"
   ]
  },
  {
   "cell_type": "code",
   "execution_count": 35,
   "id": "7e463ce5",
   "metadata": {},
   "outputs": [
    {
     "name": "stdout",
     "output_type": "stream",
     "text": [
      "RMSE for GLM using Tweedie, power=1 & alpha=0\n",
      "Training/In-Sample:  252577.62777725313 \n",
      "Validation/Out-of-Sample:  251230.5592725626\n"
     ]
    }
   ],
   "source": [
    "tweedieregressor(y_train, X_train, y_validate, X_validate)"
   ]
  },
  {
   "cell_type": "markdown",
   "id": "3af9a124",
   "metadata": {},
   "source": [
    "#### Polynomial Regression"
   ]
  },
  {
   "cell_type": "code",
   "execution_count": 36,
   "id": "55ce5db9",
   "metadata": {},
   "outputs": [
    {
     "name": "stdout",
     "output_type": "stream",
     "text": [
      "RMSE for Polynomial Model, degrees=2\n",
      "Training/In-Sample:  222773.07956697376 \n",
      "Validation/Out-of-Sample:  221208.99610532908\n"
     ]
    }
   ],
   "source": [
    "polynomialregression(y_train, X_train, y_validate, X_validate, X_test)"
   ]
  },
  {
   "cell_type": "markdown",
   "id": "6ee55134",
   "metadata": {},
   "source": [
    "## Model test sample"
   ]
  },
  {
   "cell_type": "code",
   "execution_count": 37,
   "id": "e7a04430",
   "metadata": {},
   "outputs": [
    {
     "name": "stdout",
     "output_type": "stream",
     "text": [
      "RMSE for Polynomial Model, degrees=2\n",
      "Test:  221666.78061644992\n"
     ]
    }
   ],
   "source": [
    "model_test(X_test, y_test)"
   ]
  },
  {
   "cell_type": "markdown",
   "id": "cde93924",
   "metadata": {},
   "source": [
    "# Delivery\n",
    "A prepared zillow csv file is located below for download."
   ]
  },
  {
   "cell_type": "code",
   "execution_count": 41,
   "id": "7d2f473c",
   "metadata": {},
   "outputs": [
    {
     "data": {
      "text/html": [
       "<div>\n",
       "<style scoped>\n",
       "    .dataframe tbody tr th:only-of-type {\n",
       "        vertical-align: middle;\n",
       "    }\n",
       "\n",
       "    .dataframe tbody tr th {\n",
       "        vertical-align: top;\n",
       "    }\n",
       "\n",
       "    .dataframe thead th {\n",
       "        text-align: right;\n",
       "    }\n",
       "</style>\n",
       "<table border=\"1\" class=\"dataframe\">\n",
       "  <thead>\n",
       "    <tr style=\"text-align: right;\">\n",
       "      <th></th>\n",
       "      <th>bathrooms</th>\n",
       "      <th>bedrooms</th>\n",
       "      <th>county_code</th>\n",
       "      <th>tax_value</th>\n",
       "      <th>square_feet</th>\n",
       "      <th>age</th>\n",
       "      <th>tax_rate</th>\n",
       "    </tr>\n",
       "  </thead>\n",
       "  <tbody>\n",
       "    <tr>\n",
       "      <th>0</th>\n",
       "      <td>2</td>\n",
       "      <td>3</td>\n",
       "      <td>6037</td>\n",
       "      <td>205123</td>\n",
       "      <td>1316</td>\n",
       "      <td>98</td>\n",
       "      <td>0.012809</td>\n",
       "    </tr>\n",
       "  </tbody>\n",
       "</table>\n",
       "</div>"
      ],
      "text/plain": [
       "   bathrooms  bedrooms  county_code  tax_value  square_feet  age  tax_rate\n",
       "0          2         3         6037     205123         1316   98  0.012809"
      ]
     },
     "execution_count": 41,
     "metadata": {},
     "output_type": "execute_result"
    }
   ],
   "source": [
    "zillow = df\n",
    "zillow.head(1)"
   ]
  },
  {
   "cell_type": "code",
   "execution_count": null,
   "id": "e66832b9",
   "metadata": {},
   "outputs": [],
   "source": [
    "zillow.to_csv(r'Path where you want to store the exported CSV file/df.csv')"
   ]
  },
  {
   "cell_type": "markdown",
   "id": "31d74516",
   "metadata": {},
   "source": [
    "# Tax_Rate by County"
   ]
  },
  {
   "cell_type": "code",
   "execution_count": 38,
   "id": "7375f3f1",
   "metadata": {},
   "outputs": [
    {
     "name": "stdout",
     "output_type": "stream",
     "text": [
      "county_code vs tax_rate\n"
     ]
    },
    {
     "data": {
      "image/png": "[encoded data removed]",
      "text/plain": [
       "<Figure size 432x288 with 1 Axes>"
      ]
     },
     "metadata": {
      "needs_background": "light"
     },
     "output_type": "display_data"
    },
    {
     "name": "stdout",
     "output_type": "stream",
     "text": [
      "\n"
     ]
    },
    {
     "data": {
      "image/png": "[encoded data removed]",
      "text/plain": [
       "<Figure size 432x288 with 1 Axes>"
      ]
     },
     "metadata": {
      "needs_background": "light"
     },
     "output_type": "display_data"
    },
    {
     "name": "stdout",
     "output_type": "stream",
     "text": [
      "-------------------------------\n",
      "Mean tax_rate by county_code:  \n",
      "county_code\n",
      "6037    0.012993\n",
      "6059    0.011846\n",
      "6111    0.011470\n",
      "Name: tax_rate, dtype: float64\n",
      "\n"
     ]
    }
   ],
   "source": [
    "exp_bivariate_categorical('tax_rate', ['county_code'], train)"
   ]
  },
  {
   "cell_type": "code",
   "execution_count": 39,
   "id": "a1819bb6",
   "metadata": {},
   "outputs": [],
   "source": [
    "#split county codes for tax rate plot distributions before running the function.\n",
    "county_6037 = df[df.county_code == 6037]\n",
    "county_6059 = df[df.county_code == 6059]\n",
    "county_6111 = df[df.county_code == 6111]"
   ]
  },
  {
   "cell_type": "code",
   "execution_count": 40,
   "id": "9bea95cd",
   "metadata": {},
   "outputs": [
    {
     "data": {
      "image/png": "[encoded data removed]",
      "text/plain": [
       "<Figure size 432x288 with 1 Axes>"
      ]
     },
     "metadata": {
      "needs_background": "light"
     },
     "output_type": "display_data"
    },
    {
     "name": "stdout",
     "output_type": "stream",
     "text": [
      "\n",
      "count    13479.000000\n",
      "mean         0.013014\n",
      "std          0.001326\n",
      "min          0.010141\n",
      "25%          0.012147\n",
      "50%          0.012558\n",
      "75%          0.013584\n",
      "max          0.017044\n",
      "Name: tax_rate, dtype: float64\n"
     ]
    },
    {
     "data": {
      "image/png": "[encoded data removed]",
      "text/plain": [
       "<Figure size 432x288 with 1 Axes>"
      ]
     },
     "metadata": {
      "needs_background": "light"
     },
     "output_type": "display_data"
    },
    {
     "name": "stdout",
     "output_type": "stream",
     "text": [
      "\n",
      "count    6447.000000\n",
      "mean        0.011862\n",
      "std         0.001586\n",
      "min         0.008702\n",
      "25%         0.010666\n",
      "50%         0.011580\n",
      "75%         0.012476\n",
      "max         0.017039\n",
      "Name: tax_rate, dtype: float64\n"
     ]
    },
    {
     "data": {
      "image/png": "[encoded data removed]",
      "text/plain": [
       "<Figure size 432x288 with 1 Axes>"
      ]
     },
     "metadata": {
      "needs_background": "light"
     },
     "output_type": "display_data"
    },
    {
     "name": "stdout",
     "output_type": "stream",
     "text": [
      "\n",
      "count    2124.000000\n",
      "mean        0.011470\n",
      "std         0.000980\n",
      "min         0.008977\n",
      "25%         0.010726\n",
      "50%         0.011272\n",
      "75%         0.011853\n",
      "max         0.016943\n",
      "Name: tax_rate, dtype: float64\n"
     ]
    }
   ],
   "source": [
    "#counties, x_value, group_key\n",
    "plot_distributions([county_6037, county_6059, county_6111], 'tax_rate', 'county_code')"
   ]
  },
  {
   "cell_type": "code",
   "execution_count": null,
   "id": "dcefbb15",
   "metadata": {},
   "outputs": [],
   "source": []
  }
 ],
 "metadata": {
  "kernelspec": {
   "display_name": "Python 3",
   "language": "python",
   "name": "python3"
  },
  "language_info": {
   "codemirror_mode": {
    "name": "ipython",
    "version": 3
   },
   "file_extension": ".py",
   "mimetype": "text/x-python",
   "name": "python",
   "nbconvert_exporter": "python",
   "pygments_lexer": "ipython3",
   "version": "3.8.8"
  }
 },
 "nbformat": 4,
 "nbformat_minor": 5
}
