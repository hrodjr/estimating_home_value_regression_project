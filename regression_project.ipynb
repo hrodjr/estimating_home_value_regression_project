{
 "cells": [
  {
   "cell_type": "code",
   "execution_count": 1,
   "id": "c9228b94",
   "metadata": {},
   "outputs": [],
   "source": [
    "#libraries\n",
    "import pandas as pd\n",
    "import numpy as np\n",
    "import seaborn as sns\n",
    "import matplotlib.pyplot as plt\n",
    "#ignore warnings\n",
    "import warnings\n",
    "warnings.filterwarnings('ignore')\n",
    "#pipeline imports\n",
    "import env\n",
    "\n",
    "from prepare import get_zillow_data, clean_data, get_hist, get_box, remove_outliers\n",
    "\n",
    "#stats imports\n",
    "from scipy import stats\n",
    "from scipy.stats import pearsonr, spearmanr\n",
    "#sklearn imports\n",
    "from sklearn.linear_model import LinearRegression, LassoLars, TweedieRegressor\n",
    "from sklearn.metrics import mean_squared_error, r2_score, explained_variance_score\n",
    "from sklearn.feature_selection import SelectKBest, f_regression, RFE\n",
    "from sklearn.preprocessing import MinMaxScaler, RobustScaler, StandardScaler, QuantileTransformer\n",
    "from sklearn.preprocessing import PolynomialFeatures\n",
    "from sklearn.model_selection import train_test_split\n",
    "#math import\n",
    "from math import sqrt"
   ]
  },
  {
   "cell_type": "markdown",
   "id": "951ad3b3",
   "metadata": {},
   "source": [
    "# Executive Summary\n",
    "- Bathrooms, bedrooms and square footage where the primary features that drove tax values followed by location.\n",
    "- With more time I would like to have explore more single units, age and property type."
   ]
  },
  {
   "cell_type": "markdown",
   "id": "1944de9c",
   "metadata": {},
   "source": [
    "## Planning\n",
    "##### I want to find out if tax values differ for each of the following scenarios:\n",
    "    - tax value to number of bathrooms\n",
    "    - tax value to number of bedrooms\n",
    "    - tax value to square footage\n",
    "    - tax value to county"
   ]
  },
  {
   "cell_type": "markdown",
   "id": "bfd4d86f",
   "metadata": {},
   "source": [
    "## Data Acquisition\n",
    "- Predict the values of single unit properties that the tax district assesses using the property data from those with a transaction during the \"hot months\" (in terms of real estate demand) of May-August, 2017."
   ]
  },
  {
   "cell_type": "code",
   "execution_count": 2,
   "id": "b14cbe8e",
   "metadata": {},
   "outputs": [
    {
     "data": {
      "text/html": [
       "<div>\n",
       "<style scoped>\n",
       "    .dataframe tbody tr th:only-of-type {\n",
       "        vertical-align: middle;\n",
       "    }\n",
       "\n",
       "    .dataframe tbody tr th {\n",
       "        vertical-align: top;\n",
       "    }\n",
       "\n",
       "    .dataframe thead th {\n",
       "        text-align: right;\n",
       "    }\n",
       "</style>\n",
       "<table border=\"1\" class=\"dataframe\">\n",
       "  <thead>\n",
       "    <tr style=\"text-align: right;\">\n",
       "      <th></th>\n",
       "      <th>bathroomcnt</th>\n",
       "      <th>bedroomcnt</th>\n",
       "      <th>fips</th>\n",
       "      <th>yearbuilt</th>\n",
       "      <th>taxvaluedollarcnt</th>\n",
       "      <th>taxamount</th>\n",
       "      <th>calculatedfinishedsquarefeet</th>\n",
       "    </tr>\n",
       "  </thead>\n",
       "  <tbody>\n",
       "    <tr>\n",
       "      <th>0</th>\n",
       "      <td>2.0</td>\n",
       "      <td>3.0</td>\n",
       "      <td>6037.0</td>\n",
       "      <td>1923.0</td>\n",
       "      <td>205123.0</td>\n",
       "      <td>2627.48</td>\n",
       "      <td>1316.0</td>\n",
       "    </tr>\n",
       "  </tbody>\n",
       "</table>\n",
       "</div>"
      ],
      "text/plain": [
       "   bathroomcnt  bedroomcnt    fips  yearbuilt  taxvaluedollarcnt  taxamount  \\\n",
       "0          2.0         3.0  6037.0     1923.0           205123.0    2627.48   \n",
       "\n",
       "   calculatedfinishedsquarefeet  \n",
       "0                        1316.0  "
      ]
     },
     "execution_count": 2,
     "metadata": {},
     "output_type": "execute_result"
    }
   ],
   "source": [
    "df = get_zillow_data()\n",
    "df.head(1)"
   ]
  },
  {
   "cell_type": "code",
   "execution_count": null,
   "id": "f208f004",
   "metadata": {},
   "outputs": [],
   "source": [
    "df.info()"
   ]
  },
  {
   "cell_type": "markdown",
   "id": "ceff94b9",
   "metadata": {},
   "source": [
    "##### Key Takeaways\n",
    "- Columns need to be renamed\n",
    "- Counts are off on a few columns, suggesting there may be nulls\n",
    "- All columns are float dat types"
   ]
  },
  {
   "cell_type": "code",
   "execution_count": null,
   "id": "635c0f28",
   "metadata": {},
   "outputs": [],
   "source": [
    "df.describe().T"
   ]
  },
  {
   "cell_type": "markdown",
   "id": "29c637d3",
   "metadata": {},
   "source": [
    "##### Key Takeaways\n",
    "- Average home is 3 bedroom, 2 baths, built in 1963, and with a square footage of 1934.\n",
    "- Value of the average home is 535,000 dollars\n",
    "- Home owners pay an average of 6,508 dollars\n",
    "- Ignore fips count. It is counted as an float."
   ]
  },
  {
   "cell_type": "code",
   "execution_count": null,
   "id": "6359bd07",
   "metadata": {},
   "outputs": [],
   "source": [
    "df.shape"
   ]
  },
  {
   "cell_type": "code",
   "execution_count": null,
   "id": "f97a100e",
   "metadata": {},
   "outputs": [],
   "source": [
    "df.isnull().sum()"
   ]
  },
  {
   "cell_type": "markdown",
   "id": "789be3f8",
   "metadata": {},
   "source": [
    "##### Key Takeaways\n",
    "- As identified in the data summary there is several columns that have nulls to be filled."
   ]
  },
  {
   "cell_type": "markdown",
   "id": "9305c51b",
   "metadata": {},
   "source": [
    "## Prepare Data\n",
    "- Based on the project details the following went into consideration:\n",
    "    1. Calculated tax rate dividing taxamount by taxvaluedollarcnt\n",
    "    2. Calculated age of home vice using year built by subtracting today's date by yearbuilt\n",
    "    3. Filled all nulls with the respective mean values\n",
    "    4. Dropped respective columns\n",
    "    5. Converted all but tax_rate to integers. Left tax_rate as float."
   ]
  },
  {
   "cell_type": "code",
   "execution_count": 3,
   "id": "a81ab90a",
   "metadata": {},
   "outputs": [
    {
     "data": {
      "text/html": [
       "<div>\n",
       "<style scoped>\n",
       "    .dataframe tbody tr th:only-of-type {\n",
       "        vertical-align: middle;\n",
       "    }\n",
       "\n",
       "    .dataframe tbody tr th {\n",
       "        vertical-align: top;\n",
       "    }\n",
       "\n",
       "    .dataframe thead th {\n",
       "        text-align: right;\n",
       "    }\n",
       "</style>\n",
       "<table border=\"1\" class=\"dataframe\">\n",
       "  <thead>\n",
       "    <tr style=\"text-align: right;\">\n",
       "      <th></th>\n",
       "      <th>bathrooms</th>\n",
       "      <th>bedrooms</th>\n",
       "      <th>county_code</th>\n",
       "      <th>tax_value</th>\n",
       "      <th>square_feet</th>\n",
       "      <th>age</th>\n",
       "      <th>tax_rate</th>\n",
       "    </tr>\n",
       "  </thead>\n",
       "  <tbody>\n",
       "    <tr>\n",
       "      <th>0</th>\n",
       "      <td>2</td>\n",
       "      <td>3</td>\n",
       "      <td>6037</td>\n",
       "      <td>205123</td>\n",
       "      <td>1316</td>\n",
       "      <td>98</td>\n",
       "      <td>0.012809</td>\n",
       "    </tr>\n",
       "  </tbody>\n",
       "</table>\n",
       "</div>"
      ],
      "text/plain": [
       "   bathrooms  bedrooms  county_code  tax_value  square_feet  age  tax_rate\n",
       "0          2         3         6037     205123         1316   98  0.012809"
      ]
     },
     "execution_count": 3,
     "metadata": {},
     "output_type": "execute_result"
    }
   ],
   "source": [
    "df = clean_data(df)\n",
    "df.head(1)"
   ]
  },
  {
   "cell_type": "code",
   "execution_count": null,
   "id": "07a90e0d",
   "metadata": {},
   "outputs": [],
   "source": [
    "df.info()"
   ]
  },
  {
   "cell_type": "markdown",
   "id": "99213650",
   "metadata": {},
   "source": [
    "#### Visualize prepared dataset"
   ]
  },
  {
   "cell_type": "code",
   "execution_count": null,
   "id": "95a0b5f6",
   "metadata": {},
   "outputs": [],
   "source": [
    "get_hist(df)\n",
    "get_box(df)"
   ]
  },
  {
   "cell_type": "markdown",
   "id": "fa0c2b88",
   "metadata": {},
   "source": [
    "##### Takeaways\n",
    "- Remove outliers for a more balanced view of the dataset for modeling."
   ]
  },
  {
   "cell_type": "code",
   "execution_count": 6,
   "id": "e8f3abc2",
   "metadata": {},
   "outputs": [],
   "source": [
    "df = remove_outliers(df, k = 1.5, col_list = ['bathrooms', 'bedrooms', 'tax_value', 'tax_rate', 'square_feet', 'age'])"
   ]
  },
  {
   "cell_type": "code",
   "execution_count": 9,
   "id": "99014640",
   "metadata": {},
   "outputs": [
    {
     "data": {
      "image/png": "[encoded data removed]",
      "text/plain": [
       "<Figure size 1152x216 with 6 Axes>"
      ]
     },
     "metadata": {
      "needs_background": "light"
     },
     "output_type": "display_data"
    },
    {
     "data": {
      "image/png": "[encoded data removed]",
      "text/plain": [
       "<Figure size 1152x216 with 6 Axes>"
      ]
     },
     "metadata": {
      "needs_background": "light"
     },
     "output_type": "display_data"
    }
   ],
   "source": [
    "get_hist(df)\n",
    "get_box(df)"
   ]
  },
  {
   "cell_type": "markdown",
   "id": "8e020aa4",
   "metadata": {},
   "source": [
    "##### Takeaways\n",
    "\n",
    "1. Both tax_value and square_feet are right skewed\n",
    "2. Normal distributions amongst the other features\n",
    "3. Average home is between 2 and 3 bathrooms\n",
    "4. 3 - 4 bedrooms\n",
    "5. Average tax value is roughly 400K\n",
    "6. Average tax rate just above 1.2 percent\n",
    "7. Average square feet is just above 1500sqft\n",
    "8. The average age of homes in this dataset is 60"
   ]
  }
 ],
 "metadata": {
  "kernelspec": {
   "display_name": "Python 3",
   "language": "python",
   "name": "python3"
  },
  "language_info": {
   "codemirror_mode": {
    "name": "ipython",
    "version": 3
   },
   "file_extension": ".py",
   "mimetype": "text/x-python",
   "name": "python",
   "nbconvert_exporter": "python",
   "pygments_lexer": "ipython3",
   "version": "3.8.8"
  }
 },
 "nbformat": 4,
 "nbformat_minor": 5
}
