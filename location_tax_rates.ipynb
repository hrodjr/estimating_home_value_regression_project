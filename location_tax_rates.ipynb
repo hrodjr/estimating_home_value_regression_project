{
 "cells": [
  {
   "cell_type": "markdown",
   "id": "224025cd",
   "metadata": {},
   "source": [
    "# Goals\n",
    "\n",
    "1. Where are the properties located by county and state?\n",
    "2. What are the distributions of tax rates for each county?\n",
    "3. Should include tax amounts and tax values."
   ]
  }
 ],
 "metadata": {
  "kernelspec": {
   "display_name": "Python 3",
   "language": "python",
   "name": "python3"
  },
  "language_info": {
   "codemirror_mode": {
    "name": "ipython",
    "version": 3
   },
   "file_extension": ".py",
   "mimetype": "text/x-python",
   "name": "python",
   "nbconvert_exporter": "python",
   "pygments_lexer": "ipython3",
   "version": "3.8.8"
  }
 },
 "nbformat": 4,
 "nbformat_minor": 5
}
