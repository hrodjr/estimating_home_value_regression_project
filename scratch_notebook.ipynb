{
 "cells": [
  {
   "cell_type": "code",
   "execution_count": 1,
   "id": "f0962d88",
   "metadata": {},
   "outputs": [],
   "source": [
    "#libraries\n",
    "import pandas as pd\n",
    "import numpy as np\n",
    "import seaborn as sns\n",
    "import matplotlib.pyplot as plt\n",
    "\n",
    "import warnings\n",
    "warnings.filterwarnings('ignore')\n",
    "\n",
    "import wrangle #acquire, prep and clean library\n",
    "import env\n",
    "import explore\n",
    "\n",
    "from scipy import stats\n",
    "from scipy.stats import pearsonr, spearmanr\n",
    "\n",
    "from sklearn.linear_model import LinearRegression\n",
    "from sklearn.metrics import mean_squared_error, r2_score, explained_variance_score\n",
    "from sklearn.feature_selection import SelectKBest, f_regression, RFE\n",
    "from sklearn.preprocessing import MinMaxScaler, RobustScaler, StandardScaler, QuantileTransformer\n",
    "from sklearn.model_selection import train_test_split\n",
    "\n",
    "from math import sqrt"
   ]
  },
  {
   "cell_type": "markdown",
   "id": "4e88a3ec",
   "metadata": {},
   "source": [
    "# Notes"
   ]
  },
  {
   "cell_type": "markdown",
   "id": "03fe964d",
   "metadata": {},
   "source": [
    "# Planning"
   ]
  },
  {
   "cell_type": "markdown",
   "id": "5a12723c",
   "metadata": {},
   "source": [
    "# Data Acquisition"
   ]
  },
  {
   "cell_type": "markdown",
   "id": "150be424",
   "metadata": {},
   "source": [
    "- Predict the values of single unit properties that the tax district assesses using the property data from those with a transaction during the \"hot months\" (in terms of real estate demand) of May-August, 2017."
   ]
  },
  {
   "cell_type": "code",
   "execution_count": 2,
   "id": "80ea621f",
   "metadata": {},
   "outputs": [
    {
     "data": {
      "text/html": [
       "<div>\n",
       "<style scoped>\n",
       "    .dataframe tbody tr th:only-of-type {\n",
       "        vertical-align: middle;\n",
       "    }\n",
       "\n",
       "    .dataframe tbody tr th {\n",
       "        vertical-align: top;\n",
       "    }\n",
       "\n",
       "    .dataframe thead th {\n",
       "        text-align: right;\n",
       "    }\n",
       "</style>\n",
       "<table border=\"1\" class=\"dataframe\">\n",
       "  <thead>\n",
       "    <tr style=\"text-align: right;\">\n",
       "      <th></th>\n",
       "      <th>parcelid</th>\n",
       "      <th>bathroomcnt</th>\n",
       "      <th>bedroomcnt</th>\n",
       "      <th>fips</th>\n",
       "      <th>garagecarcnt</th>\n",
       "      <th>lotsizesquarefeet</th>\n",
       "      <th>yearbuilt</th>\n",
       "      <th>taxvaluedollarcnt</th>\n",
       "      <th>calculatedfinishedsquarefeet</th>\n",
       "      <th>transaction_date</th>\n",
       "    </tr>\n",
       "  </thead>\n",
       "  <tbody>\n",
       "    <tr>\n",
       "      <th>0</th>\n",
       "      <td>11721753</td>\n",
       "      <td>2.0</td>\n",
       "      <td>3.0</td>\n",
       "      <td>6037.0</td>\n",
       "      <td>NaN</td>\n",
       "      <td>5672.0</td>\n",
       "      <td>1923.0</td>\n",
       "      <td>205123.0</td>\n",
       "      <td>1316.0</td>\n",
       "      <td>2017-07-21</td>\n",
       "    </tr>\n",
       "    <tr>\n",
       "      <th>1</th>\n",
       "      <td>11289917</td>\n",
       "      <td>2.0</td>\n",
       "      <td>3.0</td>\n",
       "      <td>6037.0</td>\n",
       "      <td>NaN</td>\n",
       "      <td>8284.0</td>\n",
       "      <td>1970.0</td>\n",
       "      <td>136104.0</td>\n",
       "      <td>1458.0</td>\n",
       "      <td>2017-06-23</td>\n",
       "    </tr>\n",
       "  </tbody>\n",
       "</table>\n",
       "</div>"
      ],
      "text/plain": [
       "   parcelid  bathroomcnt  bedroomcnt    fips  garagecarcnt  lotsizesquarefeet  \\\n",
       "0  11721753          2.0         3.0  6037.0           NaN             5672.0   \n",
       "1  11289917          2.0         3.0  6037.0           NaN             8284.0   \n",
       "\n",
       "   yearbuilt  taxvaluedollarcnt  calculatedfinishedsquarefeet transaction_date  \n",
       "0     1923.0           205123.0                        1316.0       2017-07-21  \n",
       "1     1970.0           136104.0                        1458.0       2017-06-23  "
      ]
     },
     "execution_count": 2,
     "metadata": {},
     "output_type": "execute_result"
    }
   ],
   "source": [
    "df = wrangle.get_zillow_data()\n",
    "df.head(2)"
   ]
  },
  {
   "cell_type": "markdown",
   "id": "3cbc7760",
   "metadata": {},
   "source": [
    "##### Acquired dataset\n",
    "1. Queried single family homes from \"hot months\" May to August 2017 as stated in the project scenario."
   ]
  },
  {
   "cell_type": "markdown",
   "id": "faa1e63f",
   "metadata": {},
   "source": [
    "# Data Preparation"
   ]
  },
  {
   "cell_type": "code",
   "execution_count": 3,
   "id": "43296925",
   "metadata": {},
   "outputs": [
    {
     "data": {
      "text/plain": [
       "(28124, 10)"
      ]
     },
     "execution_count": 3,
     "metadata": {},
     "output_type": "execute_result"
    }
   ],
   "source": [
    "df.shape"
   ]
  },
  {
   "cell_type": "code",
   "execution_count": 4,
   "id": "aca8dfda",
   "metadata": {},
   "outputs": [
    {
     "name": "stdout",
     "output_type": "stream",
     "text": [
      "<class 'pandas.core.frame.DataFrame'>\n",
      "RangeIndex: 28124 entries, 0 to 28123\n",
      "Data columns (total 10 columns):\n",
      " #   Column                        Non-Null Count  Dtype  \n",
      "---  ------                        --------------  -----  \n",
      " 0   parcelid                      28124 non-null  int64  \n",
      " 1   bathroomcnt                   28124 non-null  float64\n",
      " 2   bedroomcnt                    28124 non-null  float64\n",
      " 3   fips                          28124 non-null  float64\n",
      " 4   garagecarcnt                  9953 non-null   float64\n",
      " 5   lotsizesquarefeet             27921 non-null  float64\n",
      " 6   yearbuilt                     28053 non-null  float64\n",
      " 7   taxvaluedollarcnt             28123 non-null  float64\n",
      " 8   calculatedfinishedsquarefeet  28077 non-null  float64\n",
      " 9   transaction_date              28124 non-null  object \n",
      "dtypes: float64(8), int64(1), object(1)\n",
      "memory usage: 2.1+ MB\n"
     ]
    }
   ],
   "source": [
    "df.info()"
   ]
  },
  {
   "cell_type": "code",
   "execution_count": 5,
   "id": "fc0f0d71",
   "metadata": {
    "scrolled": true
   },
   "outputs": [
    {
     "data": {
      "text/plain": [
       "parcelid                            0\n",
       "bathroomcnt                         0\n",
       "bedroomcnt                          0\n",
       "fips                                0\n",
       "garagecarcnt                    18171\n",
       "lotsizesquarefeet                 203\n",
       "yearbuilt                          71\n",
       "taxvaluedollarcnt                   1\n",
       "calculatedfinishedsquarefeet       47\n",
       "transaction_date                    0\n",
       "dtype: int64"
      ]
     },
     "execution_count": 5,
     "metadata": {},
     "output_type": "execute_result"
    }
   ],
   "source": [
    "df.isnull().sum()"
   ]
  },
  {
   "cell_type": "code",
   "execution_count": 6,
   "id": "f3a65c9b",
   "metadata": {
    "scrolled": true
   },
   "outputs": [
    {
     "data": {
      "text/html": [
       "<div>\n",
       "<style scoped>\n",
       "    .dataframe tbody tr th:only-of-type {\n",
       "        vertical-align: middle;\n",
       "    }\n",
       "\n",
       "    .dataframe tbody tr th {\n",
       "        vertical-align: top;\n",
       "    }\n",
       "\n",
       "    .dataframe thead th {\n",
       "        text-align: right;\n",
       "    }\n",
       "</style>\n",
       "<table border=\"1\" class=\"dataframe\">\n",
       "  <thead>\n",
       "    <tr style=\"text-align: right;\">\n",
       "      <th></th>\n",
       "      <th>count</th>\n",
       "      <th>mean</th>\n",
       "      <th>std</th>\n",
       "      <th>min</th>\n",
       "      <th>25%</th>\n",
       "      <th>50%</th>\n",
       "      <th>75%</th>\n",
       "      <th>max</th>\n",
       "    </tr>\n",
       "  </thead>\n",
       "  <tbody>\n",
       "    <tr>\n",
       "      <th>parcelid</th>\n",
       "      <td>28124.0</td>\n",
       "      <td>1.304239e+07</td>\n",
       "      <td>3.747700e+06</td>\n",
       "      <td>10711855.0</td>\n",
       "      <td>11513802.75</td>\n",
       "      <td>12596700.0</td>\n",
       "      <td>14149137.75</td>\n",
       "      <td>167687839.0</td>\n",
       "    </tr>\n",
       "    <tr>\n",
       "      <th>bathroomcnt</th>\n",
       "      <td>28124.0</td>\n",
       "      <td>2.316509e+00</td>\n",
       "      <td>1.016983e+00</td>\n",
       "      <td>0.0</td>\n",
       "      <td>2.00</td>\n",
       "      <td>2.0</td>\n",
       "      <td>3.00</td>\n",
       "      <td>11.0</td>\n",
       "    </tr>\n",
       "    <tr>\n",
       "      <th>bedroomcnt</th>\n",
       "      <td>28124.0</td>\n",
       "      <td>3.309487e+00</td>\n",
       "      <td>9.430731e-01</td>\n",
       "      <td>0.0</td>\n",
       "      <td>3.00</td>\n",
       "      <td>3.0</td>\n",
       "      <td>4.00</td>\n",
       "      <td>12.0</td>\n",
       "    </tr>\n",
       "    <tr>\n",
       "      <th>fips</th>\n",
       "      <td>28124.0</td>\n",
       "      <td>6.049521e+03</td>\n",
       "      <td>2.130214e+01</td>\n",
       "      <td>6037.0</td>\n",
       "      <td>6037.00</td>\n",
       "      <td>6037.0</td>\n",
       "      <td>6059.00</td>\n",
       "      <td>6111.0</td>\n",
       "    </tr>\n",
       "    <tr>\n",
       "      <th>garagecarcnt</th>\n",
       "      <td>9953.0</td>\n",
       "      <td>1.951271e+00</td>\n",
       "      <td>5.621865e-01</td>\n",
       "      <td>0.0</td>\n",
       "      <td>2.00</td>\n",
       "      <td>2.0</td>\n",
       "      <td>2.00</td>\n",
       "      <td>14.0</td>\n",
       "    </tr>\n",
       "    <tr>\n",
       "      <th>lotsizesquarefeet</th>\n",
       "      <td>27921.0</td>\n",
       "      <td>1.111366e+04</td>\n",
       "      <td>6.947169e+04</td>\n",
       "      <td>236.0</td>\n",
       "      <td>5592.00</td>\n",
       "      <td>6854.0</td>\n",
       "      <td>8802.00</td>\n",
       "      <td>6971010.0</td>\n",
       "    </tr>\n",
       "    <tr>\n",
       "      <th>yearbuilt</th>\n",
       "      <td>28053.0</td>\n",
       "      <td>1.963773e+03</td>\n",
       "      <td>2.310895e+01</td>\n",
       "      <td>1878.0</td>\n",
       "      <td>1950.00</td>\n",
       "      <td>1961.0</td>\n",
       "      <td>1979.00</td>\n",
       "      <td>2016.0</td>\n",
       "    </tr>\n",
       "    <tr>\n",
       "      <th>taxvaluedollarcnt</th>\n",
       "      <td>28123.0</td>\n",
       "      <td>5.350049e+05</td>\n",
       "      <td>7.076811e+05</td>\n",
       "      <td>1000.0</td>\n",
       "      <td>198636.00</td>\n",
       "      <td>382798.0</td>\n",
       "      <td>632767.00</td>\n",
       "      <td>23858374.0</td>\n",
       "    </tr>\n",
       "    <tr>\n",
       "      <th>calculatedfinishedsquarefeet</th>\n",
       "      <td>28077.0</td>\n",
       "      <td>1.934930e+03</td>\n",
       "      <td>9.956845e+02</td>\n",
       "      <td>240.0</td>\n",
       "      <td>1278.00</td>\n",
       "      <td>1675.0</td>\n",
       "      <td>2326.00</td>\n",
       "      <td>17245.0</td>\n",
       "    </tr>\n",
       "  </tbody>\n",
       "</table>\n",
       "</div>"
      ],
      "text/plain": [
       "                                count          mean           std         min  \\\n",
       "parcelid                      28124.0  1.304239e+07  3.747700e+06  10711855.0   \n",
       "bathroomcnt                   28124.0  2.316509e+00  1.016983e+00         0.0   \n",
       "bedroomcnt                    28124.0  3.309487e+00  9.430731e-01         0.0   \n",
       "fips                          28124.0  6.049521e+03  2.130214e+01      6037.0   \n",
       "garagecarcnt                   9953.0  1.951271e+00  5.621865e-01         0.0   \n",
       "lotsizesquarefeet             27921.0  1.111366e+04  6.947169e+04       236.0   \n",
       "yearbuilt                     28053.0  1.963773e+03  2.310895e+01      1878.0   \n",
       "taxvaluedollarcnt             28123.0  5.350049e+05  7.076811e+05      1000.0   \n",
       "calculatedfinishedsquarefeet  28077.0  1.934930e+03  9.956845e+02       240.0   \n",
       "\n",
       "                                      25%         50%          75%  \\\n",
       "parcelid                      11513802.75  12596700.0  14149137.75   \n",
       "bathroomcnt                          2.00         2.0         3.00   \n",
       "bedroomcnt                           3.00         3.0         4.00   \n",
       "fips                              6037.00      6037.0      6059.00   \n",
       "garagecarcnt                         2.00         2.0         2.00   \n",
       "lotsizesquarefeet                 5592.00      6854.0      8802.00   \n",
       "yearbuilt                         1950.00      1961.0      1979.00   \n",
       "taxvaluedollarcnt               198636.00    382798.0    632767.00   \n",
       "calculatedfinishedsquarefeet      1278.00      1675.0      2326.00   \n",
       "\n",
       "                                      max  \n",
       "parcelid                      167687839.0  \n",
       "bathroomcnt                          11.0  \n",
       "bedroomcnt                           12.0  \n",
       "fips                               6111.0  \n",
       "garagecarcnt                         14.0  \n",
       "lotsizesquarefeet               6971010.0  \n",
       "yearbuilt                          2016.0  \n",
       "taxvaluedollarcnt              23858374.0  \n",
       "calculatedfinishedsquarefeet      17245.0  "
      ]
     },
     "execution_count": 6,
     "metadata": {},
     "output_type": "execute_result"
    }
   ],
   "source": [
    "df.describe().T"
   ]
  },
  {
   "cell_type": "code",
   "execution_count": 7,
   "id": "9572bb05",
   "metadata": {},
   "outputs": [
    {
     "data": {
      "text/plain": [
       "(28124, 10)"
      ]
     },
     "execution_count": 7,
     "metadata": {},
     "output_type": "execute_result"
    }
   ],
   "source": [
    "df = df.drop_duplicates()\n",
    "df.shape"
   ]
  },
  {
   "cell_type": "code",
   "execution_count": 8,
   "id": "a31c2305",
   "metadata": {
    "scrolled": false
   },
   "outputs": [
    {
     "data": {
      "text/html": [
       "<div>\n",
       "<style scoped>\n",
       "    .dataframe tbody tr th:only-of-type {\n",
       "        vertical-align: middle;\n",
       "    }\n",
       "\n",
       "    .dataframe tbody tr th {\n",
       "        vertical-align: top;\n",
       "    }\n",
       "\n",
       "    .dataframe thead th {\n",
       "        text-align: right;\n",
       "    }\n",
       "</style>\n",
       "<table border=\"1\" class=\"dataframe\">\n",
       "  <thead>\n",
       "    <tr style=\"text-align: right;\">\n",
       "      <th></th>\n",
       "      <th>parcelid</th>\n",
       "      <th>bathrooms</th>\n",
       "      <th>bedrooms</th>\n",
       "      <th>county_code</th>\n",
       "      <th>garage</th>\n",
       "      <th>lot_size</th>\n",
       "      <th>year_built</th>\n",
       "      <th>tax_value</th>\n",
       "      <th>square_feet</th>\n",
       "      <th>transaction_date</th>\n",
       "    </tr>\n",
       "  </thead>\n",
       "  <tbody>\n",
       "  </tbody>\n",
       "</table>\n",
       "</div>"
      ],
      "text/plain": [
       "Empty DataFrame\n",
       "Columns: [parcelid, bathrooms, bedrooms, county_code, garage, lot_size, year_built, tax_value, square_feet, transaction_date]\n",
       "Index: []"
      ]
     },
     "execution_count": 8,
     "metadata": {},
     "output_type": "execute_result"
    }
   ],
   "source": [
    "df = df.rename(columns={\"bedroomcnt\": \"bedrooms\", \"bathroomcnt\": \"bathrooms\", \"calculatedfinishedsquarefeet\":\"square_feet\", \"taxvaluedollarcnt\":\"tax_value\", \"yearbuilt\":\"year_built\", \"fips\":\"county_code\", \"garagecarcnt\":\"garage\", \"lotsizesquarefeet\":\"lot_size\"})\n",
    "df.head(0)"
   ]
  },
  {
   "cell_type": "code",
   "execution_count": 9,
   "id": "58c38daa",
   "metadata": {},
   "outputs": [
    {
     "name": "stdout",
     "output_type": "stream",
     "text": [
      "<class 'pandas.core.frame.DataFrame'>\n",
      "Int64Index: 28124 entries, 0 to 28123\n",
      "Data columns (total 10 columns):\n",
      " #   Column            Non-Null Count  Dtype  \n",
      "---  ------            --------------  -----  \n",
      " 0   parcelid          28124 non-null  object \n",
      " 1   bathrooms         28124 non-null  float64\n",
      " 2   bedrooms          28124 non-null  float64\n",
      " 3   county_code       28124 non-null  object \n",
      " 4   garage            9953 non-null   float64\n",
      " 5   lot_size          27921 non-null  object \n",
      " 6   year_built        28053 non-null  float64\n",
      " 7   tax_value         28123 non-null  float64\n",
      " 8   square_feet       28077 non-null  float64\n",
      " 9   transaction_date  28124 non-null  object \n",
      "dtypes: float64(6), object(4)\n",
      "memory usage: 2.4+ MB\n"
     ]
    }
   ],
   "source": [
    "convert_dict = {'county_code': object, 'parcelid':object, 'lot_size':object}\n",
    "df = df.astype(convert_dict)\n",
    "df.info()"
   ]
  },
  {
   "cell_type": "code",
   "execution_count": 10,
   "id": "cfcacd7c",
   "metadata": {},
   "outputs": [
    {
     "data": {
      "text/plain": [
       "parcelid                0\n",
       "bathrooms               0\n",
       "bedrooms                0\n",
       "county_code             0\n",
       "garage              18171\n",
       "lot_size              203\n",
       "year_built             71\n",
       "tax_value               1\n",
       "square_feet            47\n",
       "transaction_date        0\n",
       "dtype: int64"
      ]
     },
     "execution_count": 10,
     "metadata": {},
     "output_type": "execute_result"
    }
   ],
   "source": [
    "df.isnull().sum()"
   ]
  },
  {
   "cell_type": "code",
   "execution_count": 11,
   "id": "1627d8e0",
   "metadata": {},
   "outputs": [],
   "source": [
    "#keep after query 18171 nulls\n",
    "df['garage'] = df.garage.fillna(value = df['garage'].mean())"
   ]
  },
  {
   "cell_type": "code",
   "execution_count": 12,
   "id": "afa7e025",
   "metadata": {},
   "outputs": [],
   "source": [
    "#keep after query 1 null\n",
    "df['tax_value'] = df.tax_value.fillna(value = df['tax_value'].mean())"
   ]
  },
  {
   "cell_type": "code",
   "execution_count": 13,
   "id": "f8b8a9ad",
   "metadata": {},
   "outputs": [],
   "source": [
    "#keep after query 47 nulls\n",
    "df['square_feet'] = df.square_feet.fillna(value = df['square_feet'].mean())"
   ]
  },
  {
   "cell_type": "code",
   "execution_count": 14,
   "id": "1787dba8",
   "metadata": {},
   "outputs": [],
   "source": [
    "#keep after query 71 nulls\n",
    "df['lot_size'] = df.lot_size.fillna(value = df['lot_size'].mean())"
   ]
  },
  {
   "cell_type": "code",
   "execution_count": 15,
   "id": "217993e8",
   "metadata": {},
   "outputs": [],
   "source": [
    "#keep after query 203 nulls\n",
    "df['year_built'] = df.year_built.fillna(value = df['year_built'].mean())"
   ]
  },
  {
   "cell_type": "code",
   "execution_count": 16,
   "id": "528c24d1",
   "metadata": {},
   "outputs": [
    {
     "name": "stdout",
     "output_type": "stream",
     "text": [
      "<class 'pandas.core.frame.DataFrame'>\n",
      "Int64Index: 28124 entries, 0 to 28123\n",
      "Data columns (total 10 columns):\n",
      " #   Column            Non-Null Count  Dtype \n",
      "---  ------            --------------  ----- \n",
      " 0   parcelid          28124 non-null  object\n",
      " 1   bathrooms         28124 non-null  int64 \n",
      " 2   bedrooms          28124 non-null  int64 \n",
      " 3   county_code       28124 non-null  object\n",
      " 4   garage            28124 non-null  int64 \n",
      " 5   lot_size          28124 non-null  int64 \n",
      " 6   year_built        28124 non-null  object\n",
      " 7   tax_value         28124 non-null  int64 \n",
      " 8   square_feet       28124 non-null  int64 \n",
      " 9   transaction_date  28124 non-null  object\n",
      "dtypes: int64(6), object(4)\n",
      "memory usage: 2.4+ MB\n"
     ]
    }
   ],
   "source": [
    "#converts floats to int and obj\n",
    "convert_dict_int = {'bathrooms': int, 'bedrooms': int, 'garage':int, 'tax_value':int,\n",
    "                   'square_feet':int, 'lot_size':int, 'year_built': object}\n",
    "df = df.astype(convert_dict_int)\n",
    "df.info()"
   ]
  },
  {
   "cell_type": "code",
   "execution_count": 17,
   "id": "4df2ec4a",
   "metadata": {
    "scrolled": true
   },
   "outputs": [
    {
     "data": {
      "image/png": "[encoded data removed]",
      "text/plain": [
       "<Figure size 1152x216 with 6 Axes>"
      ]
     },
     "metadata": {
      "needs_background": "light"
     },
     "output_type": "display_data"
    }
   ],
   "source": [
    "#prior to removing outliers\n",
    "#had to add 'transaction_date' to the drop column within the function\n",
    "wrangle.get_hist(df)"
   ]
  },
  {
   "cell_type": "code",
   "execution_count": 18,
   "id": "4e45823a",
   "metadata": {},
   "outputs": [
    {
     "data": {
      "image/png": "[encoded data removed]",
      "text/plain": [
       "<Figure size 1152x216 with 6 Axes>"
      ]
     },
     "metadata": {
      "needs_background": "light"
     },
     "output_type": "display_data"
    }
   ],
   "source": [
    "#prior to removing outliers\n",
    "wrangle.get_box(df)"
   ]
  },
  {
   "cell_type": "code",
   "execution_count": 19,
   "id": "0d83692b",
   "metadata": {
    "scrolled": true
   },
   "outputs": [
    {
     "data": {
      "text/html": [
       "<div>\n",
       "<style scoped>\n",
       "    .dataframe tbody tr th:only-of-type {\n",
       "        vertical-align: middle;\n",
       "    }\n",
       "\n",
       "    .dataframe tbody tr th {\n",
       "        vertical-align: top;\n",
       "    }\n",
       "\n",
       "    .dataframe thead th {\n",
       "        text-align: right;\n",
       "    }\n",
       "</style>\n",
       "<table border=\"1\" class=\"dataframe\">\n",
       "  <thead>\n",
       "    <tr style=\"text-align: right;\">\n",
       "      <th></th>\n",
       "      <th>parcelid</th>\n",
       "      <th>bathrooms</th>\n",
       "      <th>bedrooms</th>\n",
       "      <th>county_code</th>\n",
       "      <th>garage</th>\n",
       "      <th>lot_size</th>\n",
       "      <th>year_built</th>\n",
       "      <th>tax_value</th>\n",
       "      <th>square_feet</th>\n",
       "      <th>transaction_date</th>\n",
       "    </tr>\n",
       "  </thead>\n",
       "  <tbody>\n",
       "    <tr>\n",
       "      <th>0</th>\n",
       "      <td>11721753</td>\n",
       "      <td>2</td>\n",
       "      <td>3</td>\n",
       "      <td>6037.0</td>\n",
       "      <td>1</td>\n",
       "      <td>5672</td>\n",
       "      <td>1923.0</td>\n",
       "      <td>205123</td>\n",
       "      <td>1316</td>\n",
       "      <td>2017-07-21</td>\n",
       "    </tr>\n",
       "    <tr>\n",
       "      <th>1</th>\n",
       "      <td>11289917</td>\n",
       "      <td>2</td>\n",
       "      <td>3</td>\n",
       "      <td>6037.0</td>\n",
       "      <td>1</td>\n",
       "      <td>8284</td>\n",
       "      <td>1970.0</td>\n",
       "      <td>136104</td>\n",
       "      <td>1458</td>\n",
       "      <td>2017-06-23</td>\n",
       "    </tr>\n",
       "    <tr>\n",
       "      <th>2</th>\n",
       "      <td>11705026</td>\n",
       "      <td>1</td>\n",
       "      <td>2</td>\n",
       "      <td>6037.0</td>\n",
       "      <td>1</td>\n",
       "      <td>6707</td>\n",
       "      <td>1911.0</td>\n",
       "      <td>35606</td>\n",
       "      <td>1421</td>\n",
       "      <td>2017-06-30</td>\n",
       "    </tr>\n",
       "    <tr>\n",
       "      <th>3</th>\n",
       "      <td>14269464</td>\n",
       "      <td>3</td>\n",
       "      <td>4</td>\n",
       "      <td>6059.0</td>\n",
       "      <td>2</td>\n",
       "      <td>4975</td>\n",
       "      <td>2003.0</td>\n",
       "      <td>880456</td>\n",
       "      <td>2541</td>\n",
       "      <td>2017-06-01</td>\n",
       "    </tr>\n",
       "    <tr>\n",
       "      <th>4</th>\n",
       "      <td>11446756</td>\n",
       "      <td>2</td>\n",
       "      <td>3</td>\n",
       "      <td>6037.0</td>\n",
       "      <td>1</td>\n",
       "      <td>5000</td>\n",
       "      <td>1955.0</td>\n",
       "      <td>107110</td>\n",
       "      <td>1491</td>\n",
       "      <td>2017-08-23</td>\n",
       "    </tr>\n",
       "  </tbody>\n",
       "</table>\n",
       "</div>"
      ],
      "text/plain": [
       "   parcelid  bathrooms  bedrooms county_code  garage  lot_size year_built  \\\n",
       "0  11721753          2         3      6037.0       1      5672     1923.0   \n",
       "1  11289917          2         3      6037.0       1      8284     1970.0   \n",
       "2  11705026          1         2      6037.0       1      6707     1911.0   \n",
       "3  14269464          3         4      6059.0       2      4975     2003.0   \n",
       "4  11446756          2         3      6037.0       1      5000     1955.0   \n",
       "\n",
       "   tax_value  square_feet transaction_date  \n",
       "0     205123         1316       2017-07-21  \n",
       "1     136104         1458       2017-06-23  \n",
       "2      35606         1421       2017-06-30  \n",
       "3     880456         2541       2017-06-01  \n",
       "4     107110         1491       2017-08-23  "
      ]
     },
     "execution_count": 19,
     "metadata": {},
     "output_type": "execute_result"
    }
   ],
   "source": [
    "#remove outliers\n",
    "k = 1.5\n",
    "col_list = ['bathrooms', 'bedrooms', 'garage', 'lot_size', 'tax_value', 'square_feet']\n",
    "df = wrangle.remove_outliers(df, k , col_list)\n",
    "df.head()"
   ]
  },
  {
   "cell_type": "code",
   "execution_count": 20,
   "id": "a0699e9a",
   "metadata": {},
   "outputs": [
    {
     "data": {
      "image/png": "[encoded data removed]",
      "text/plain": [
       "<Figure size 1152x216 with 6 Axes>"
      ]
     },
     "metadata": {
      "needs_background": "light"
     },
     "output_type": "display_data"
    }
   ],
   "source": [
    "#after removing outliers\n",
    "wrangle.get_hist(df)"
   ]
  },
  {
   "cell_type": "code",
   "execution_count": 21,
   "id": "a66874c1",
   "metadata": {},
   "outputs": [
    {
     "data": {
      "image/png": "[encoded data removed]",
      "text/plain": [
       "<Figure size 1152x216 with 6 Axes>"
      ]
     },
     "metadata": {
      "needs_background": "light"
     },
     "output_type": "display_data"
    }
   ],
   "source": [
    "#after removing outliers\n",
    "wrangle.get_box(df)"
   ]
  },
  {
   "cell_type": "markdown",
   "id": "0f4c0385",
   "metadata": {},
   "source": [
    "##### NOTES\n",
    "\n",
    "1. SQL zillow dataset\n",
    "2. property type - Single Family - 261\n",
    "3. .shape (2152863, 61)\n",
    "4. After initial data acquisition .shape (2152863, 16)\n",
    "    - From initial acquisition I kept the following columns:\n",
    "    - parcelid, basementsqft, bathroomcnt, bedroomcnt, fips, garagecarcnt, garagetotalsqft, lotsizesquarefeet, poolcnt, poolsizesum, roomcnt, unitcnt, yearbuilt, numberofstories, taxvaluedollarcnt, taxamount\n",
    "5. Dropped (based on qty of nulls): basementsqft, garagetotalsqft, poolcnt, poolsizesum, unitcnt, numberofstories, roomcnt\n",
    "6. Final .shape (2152985, 11)\n",
    "7. Drop duplicates (2152982, 11) \n",
    "8. Fill in nulls (as identified in wrangle.py)\n",
    "9. Drop columns\n",
    "10. Visualize\n",
    "11. Remove outliers\n",
    "12. After prep'd data I queried \"hot months\" from sql\n",
    "    - shape after query (28124, 12)\n",
    "    - null counts show different numbers and prep function will need to be modified\n",
    "    - no change in shape after dropping duplicates\n",
    "    - modified prep function\n",
    "    - modified outliersw\n",
    "    \n",
    "##### NOTES on Project Guidance\n",
    "- The below, prior to data exploration, is built to project guidance."
   ]
  },
  {
   "cell_type": "markdown",
   "id": "ab74b8b7",
   "metadata": {},
   "source": [
    "## MVP"
   ]
  },
  {
   "cell_type": "code",
   "execution_count": null,
   "id": "32b3bd6a",
   "metadata": {},
   "outputs": [],
   "source": [
    "# Use square_feet, bedrooms, bathrooms to estimate the property's assesed value 'tax_value'\n",
    "# ADD new column \"TAX_RATE\" by using 'tax_value' multiplied by \"ANNUAL_TAX\"\n",
    "# need to figure out which FIELDS make up \"ANNUAL TAX\""
   ]
  },
  {
   "cell_type": "code",
   "execution_count": null,
   "id": "3ffbf17c",
   "metadata": {},
   "outputs": [],
   "source": []
  },
  {
   "cell_type": "markdown",
   "id": "9a0a398c",
   "metadata": {},
   "source": [
    "# Data Exploration\n",
    "\n",
    "1. What are the takeaways about the drivers of single unit property values?\n",
    "2. Visualizations to support main points."
   ]
  },
  {
   "cell_type": "markdown",
   "id": "3b4e321c",
   "metadata": {},
   "source": [
    "### Univariate"
   ]
  },
  {
   "cell_type": "code",
   "execution_count": null,
   "id": "b2899174",
   "metadata": {},
   "outputs": [],
   "source": [
    "explore.explore_univariate(train, cat_vars, quant_vars)"
   ]
  },
  {
   "cell_type": "markdown",
   "id": "da53acea",
   "metadata": {},
   "source": [
    "### Bivariate"
   ]
  },
  {
   "cell_type": "code",
   "execution_count": null,
   "id": "1bc22fe2",
   "metadata": {},
   "outputs": [],
   "source": [
    "#exploring split\n",
    "explore.explore_bivariate(train, target, cat_vars, quant_vars)"
   ]
  },
  {
   "cell_type": "markdown",
   "id": "c86b607c",
   "metadata": {},
   "source": [
    "### Multivariate"
   ]
  },
  {
   "cell_type": "code",
   "execution_count": null,
   "id": "d8d9549f",
   "metadata": {},
   "outputs": [],
   "source": [
    "#exploring  split\n",
    "explore.explore_multivariate(train, target, cat_vars, quant_vars)"
   ]
  },
  {
   "cell_type": "markdown",
   "id": "aaccd4da",
   "metadata": {},
   "source": [
    "# Hypothesis Testing"
   ]
  },
  {
   "cell_type": "markdown",
   "id": "1eb7c42f",
   "metadata": {},
   "source": [
    "# Modeling"
   ]
  },
  {
   "cell_type": "code",
   "execution_count": null,
   "id": "8e65acba",
   "metadata": {},
   "outputs": [],
   "source": []
  }
 ],
 "metadata": {
  "kernelspec": {
   "display_name": "Python 3",
   "language": "python",
   "name": "python3"
  },
  "language_info": {
   "codemirror_mode": {
    "name": "ipython",
    "version": 3
   },
   "file_extension": ".py",
   "mimetype": "text/x-python",
   "name": "python",
   "nbconvert_exporter": "python",
   "pygments_lexer": "ipython3",
   "version": "3.8.8"
  }
 },
 "nbformat": 4,
 "nbformat_minor": 5
}
