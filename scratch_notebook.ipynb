{
 "cells": [
  {
   "cell_type": "code",
   "execution_count": 1,
   "id": "f0962d88",
   "metadata": {},
   "outputs": [],
   "source": [
    "#libraries\n",
    "import pandas as pd\n",
    "import numpy as np\n",
    "import seaborn as sns\n",
    "import matplotlib.pyplot as plt\n",
    "\n",
    "import warnings\n",
    "warnings.filterwarnings('ignore')\n",
    "\n",
    "import wrangle #acquire, prep and clean library\n",
    "import env\n",
    "import explore\n",
    "\n",
    "from scipy import stats\n",
    "from scipy.stats import pearsonr, spearmanr\n",
    "\n",
    "from sklearn.linear_model import LinearRegression\n",
    "from sklearn.metrics import mean_squared_error, r2_score, explained_variance_score\n",
    "from sklearn.feature_selection import SelectKBest, f_regression, RFE\n",
    "from sklearn.preprocessing import MinMaxScaler, RobustScaler, StandardScaler, QuantileTransformer\n",
    "from sklearn.model_selection import train_test_split\n",
    "\n",
    "from math import sqrt"
   ]
  },
  {
   "cell_type": "markdown",
   "id": "4e88a3ec",
   "metadata": {},
   "source": [
    "# Notes"
   ]
  },
  {
   "cell_type": "markdown",
   "id": "03fe964d",
   "metadata": {},
   "source": [
    "# Planning"
   ]
  },
  {
   "cell_type": "markdown",
   "id": "5a12723c",
   "metadata": {},
   "source": [
    "# Data Acquisition"
   ]
  },
  {
   "cell_type": "code",
   "execution_count": 2,
   "id": "80ea621f",
   "metadata": {},
   "outputs": [
    {
     "data": {
      "text/html": [
       "<div>\n",
       "<style scoped>\n",
       "    .dataframe tbody tr th:only-of-type {\n",
       "        vertical-align: middle;\n",
       "    }\n",
       "\n",
       "    .dataframe tbody tr th {\n",
       "        vertical-align: top;\n",
       "    }\n",
       "\n",
       "    .dataframe thead th {\n",
       "        text-align: right;\n",
       "    }\n",
       "</style>\n",
       "<table border=\"1\" class=\"dataframe\">\n",
       "  <thead>\n",
       "    <tr style=\"text-align: right;\">\n",
       "      <th></th>\n",
       "      <th>parcelid</th>\n",
       "      <th>bathroomcnt</th>\n",
       "      <th>bedroomcnt</th>\n",
       "      <th>fips</th>\n",
       "      <th>garagecarcnt</th>\n",
       "      <th>lotsizesquarefeet</th>\n",
       "      <th>yearbuilt</th>\n",
       "      <th>taxvaluedollarcnt</th>\n",
       "      <th>taxamount</th>\n",
       "      <th>calculatedfinishedsquarefeet</th>\n",
       "      <th>predictions</th>\n",
       "    </tr>\n",
       "  </thead>\n",
       "  <tbody>\n",
       "    <tr>\n",
       "      <th>0</th>\n",
       "      <td>17173851</td>\n",
       "      <td>2.0</td>\n",
       "      <td>4.0</td>\n",
       "      <td>6111.0</td>\n",
       "      <td>NaN</td>\n",
       "      <td>11396.0</td>\n",
       "      <td>1952.0</td>\n",
       "      <td>64712.0</td>\n",
       "      <td>781.00</td>\n",
       "      <td>1848.0</td>\n",
       "      <td>0.088469</td>\n",
       "    </tr>\n",
       "    <tr>\n",
       "      <th>1</th>\n",
       "      <td>10821119</td>\n",
       "      <td>2.0</td>\n",
       "      <td>2.0</td>\n",
       "      <td>6037.0</td>\n",
       "      <td>NaN</td>\n",
       "      <td>6299.0</td>\n",
       "      <td>1952.0</td>\n",
       "      <td>381638.0</td>\n",
       "      <td>4692.27</td>\n",
       "      <td>1430.0</td>\n",
       "      <td>0.025629</td>\n",
       "    </tr>\n",
       "  </tbody>\n",
       "</table>\n",
       "</div>"
      ],
      "text/plain": [
       "   parcelid  bathroomcnt  bedroomcnt    fips  garagecarcnt  lotsizesquarefeet  \\\n",
       "0  17173851          2.0         4.0  6111.0           NaN            11396.0   \n",
       "1  10821119          2.0         2.0  6037.0           NaN             6299.0   \n",
       "\n",
       "   yearbuilt  taxvaluedollarcnt  taxamount  calculatedfinishedsquarefeet  \\\n",
       "0     1952.0            64712.0     781.00                        1848.0   \n",
       "1     1952.0           381638.0    4692.27                        1430.0   \n",
       "\n",
       "   predictions  \n",
       "0     0.088469  \n",
       "1     0.025629  "
      ]
     },
     "execution_count": 2,
     "metadata": {},
     "output_type": "execute_result"
    }
   ],
   "source": [
    "df = wrangle.get_zillow_data()\n",
    "df.head(2)"
   ]
  },
  {
   "cell_type": "code",
   "execution_count": 3,
   "id": "2fe7fa02",
   "metadata": {},
   "outputs": [
    {
     "data": {
      "text/plain": [
       "(2152985, 11)"
      ]
     },
     "execution_count": 3,
     "metadata": {},
     "output_type": "execute_result"
    }
   ],
   "source": [
    "df.shape"
   ]
  },
  {
   "cell_type": "code",
   "execution_count": 4,
   "id": "fbd0b9c2",
   "metadata": {},
   "outputs": [
    {
     "name": "stdout",
     "output_type": "stream",
     "text": [
      "<class 'pandas.core.frame.DataFrame'>\n",
      "RangeIndex: 2152985 entries, 0 to 2152984\n",
      "Data columns (total 11 columns):\n",
      " #   Column                        Dtype  \n",
      "---  ------                        -----  \n",
      " 0   parcelid                      int64  \n",
      " 1   bathroomcnt                   float64\n",
      " 2   bedroomcnt                    float64\n",
      " 3   fips                          float64\n",
      " 4   garagecarcnt                  float64\n",
      " 5   lotsizesquarefeet             float64\n",
      " 6   yearbuilt                     float64\n",
      " 7   taxvaluedollarcnt             float64\n",
      " 8   taxamount                     float64\n",
      " 9   calculatedfinishedsquarefeet  float64\n",
      " 10  predictions                   float64\n",
      "dtypes: float64(10), int64(1)\n",
      "memory usage: 180.7 MB\n"
     ]
    }
   ],
   "source": [
    "df.info()"
   ]
  },
  {
   "cell_type": "code",
   "execution_count": 5,
   "id": "9ab3913c",
   "metadata": {
    "scrolled": true
   },
   "outputs": [
    {
     "data": {
      "text/plain": [
       "parcelid                              0\n",
       "bathroomcnt                          11\n",
       "bedroomcnt                           11\n",
       "fips                                  0\n",
       "garagecarcnt                    1454321\n",
       "lotsizesquarefeet                 13441\n",
       "yearbuilt                          9339\n",
       "taxvaluedollarcnt                   493\n",
       "taxamount                          4442\n",
       "calculatedfinishedsquarefeet       8485\n",
       "predictions                     2100543\n",
       "dtype: int64"
      ]
     },
     "execution_count": 5,
     "metadata": {},
     "output_type": "execute_result"
    }
   ],
   "source": [
    "df.isnull().sum()"
   ]
  },
  {
   "cell_type": "code",
   "execution_count": 6,
   "id": "91634c5e",
   "metadata": {
    "scrolled": true
   },
   "outputs": [
    {
     "data": {
      "text/html": [
       "<div>\n",
       "<style scoped>\n",
       "    .dataframe tbody tr th:only-of-type {\n",
       "        vertical-align: middle;\n",
       "    }\n",
       "\n",
       "    .dataframe tbody tr th {\n",
       "        vertical-align: top;\n",
       "    }\n",
       "\n",
       "    .dataframe thead th {\n",
       "        text-align: right;\n",
       "    }\n",
       "</style>\n",
       "<table border=\"1\" class=\"dataframe\">\n",
       "  <thead>\n",
       "    <tr style=\"text-align: right;\">\n",
       "      <th></th>\n",
       "      <th>count</th>\n",
       "      <th>mean</th>\n",
       "      <th>std</th>\n",
       "      <th>min</th>\n",
       "      <th>25%</th>\n",
       "      <th>50%</th>\n",
       "      <th>75%</th>\n",
       "      <th>max</th>\n",
       "    </tr>\n",
       "  </thead>\n",
       "  <tbody>\n",
       "    <tr>\n",
       "      <th>parcelid</th>\n",
       "      <td>2152985.0</td>\n",
       "      <td>1.309662e+07</td>\n",
       "      <td>5.172434e+06</td>\n",
       "      <td>1.071172e+07</td>\n",
       "      <td>1.165907e+07</td>\n",
       "      <td>1.259850e+07</td>\n",
       "      <td>1.405608e+07</td>\n",
       "      <td>1.696019e+08</td>\n",
       "    </tr>\n",
       "    <tr>\n",
       "      <th>bathroomcnt</th>\n",
       "      <td>2152974.0</td>\n",
       "      <td>2.230677e+00</td>\n",
       "      <td>9.992790e-01</td>\n",
       "      <td>0.000000e+00</td>\n",
       "      <td>2.000000e+00</td>\n",
       "      <td>2.000000e+00</td>\n",
       "      <td>3.000000e+00</td>\n",
       "      <td>3.200000e+01</td>\n",
       "    </tr>\n",
       "    <tr>\n",
       "      <th>bedroomcnt</th>\n",
       "      <td>2152974.0</td>\n",
       "      <td>3.287195e+00</td>\n",
       "      <td>9.547910e-01</td>\n",
       "      <td>0.000000e+00</td>\n",
       "      <td>3.000000e+00</td>\n",
       "      <td>3.000000e+00</td>\n",
       "      <td>4.000000e+00</td>\n",
       "      <td>2.500000e+01</td>\n",
       "    </tr>\n",
       "    <tr>\n",
       "      <th>fips</th>\n",
       "      <td>2152985.0</td>\n",
       "      <td>6.048377e+03</td>\n",
       "      <td>2.043332e+01</td>\n",
       "      <td>6.037000e+03</td>\n",
       "      <td>6.037000e+03</td>\n",
       "      <td>6.037000e+03</td>\n",
       "      <td>6.059000e+03</td>\n",
       "      <td>6.111000e+03</td>\n",
       "    </tr>\n",
       "    <tr>\n",
       "      <th>garagecarcnt</th>\n",
       "      <td>698664.0</td>\n",
       "      <td>1.926653e+00</td>\n",
       "      <td>5.696367e-01</td>\n",
       "      <td>0.000000e+00</td>\n",
       "      <td>2.000000e+00</td>\n",
       "      <td>2.000000e+00</td>\n",
       "      <td>2.000000e+00</td>\n",
       "      <td>2.500000e+01</td>\n",
       "    </tr>\n",
       "    <tr>\n",
       "      <th>lotsizesquarefeet</th>\n",
       "      <td>2139544.0</td>\n",
       "      <td>1.107215e+04</td>\n",
       "      <td>2.656322e+05</td>\n",
       "      <td>1.000000e+02</td>\n",
       "      <td>5.633000e+03</td>\n",
       "      <td>6.760000e+03</td>\n",
       "      <td>8.551000e+03</td>\n",
       "      <td>3.710005e+08</td>\n",
       "    </tr>\n",
       "    <tr>\n",
       "      <th>yearbuilt</th>\n",
       "      <td>2143646.0</td>\n",
       "      <td>1.960949e+03</td>\n",
       "      <td>2.216238e+01</td>\n",
       "      <td>1.801000e+03</td>\n",
       "      <td>1.949000e+03</td>\n",
       "      <td>1.958000e+03</td>\n",
       "      <td>1.976000e+03</td>\n",
       "      <td>2.016000e+03</td>\n",
       "    </tr>\n",
       "    <tr>\n",
       "      <th>taxvaluedollarcnt</th>\n",
       "      <td>2152492.0</td>\n",
       "      <td>4.618967e+05</td>\n",
       "      <td>6.996805e+05</td>\n",
       "      <td>1.000000e+00</td>\n",
       "      <td>1.881638e+05</td>\n",
       "      <td>3.276710e+05</td>\n",
       "      <td>5.345212e+05</td>\n",
       "      <td>9.842891e+07</td>\n",
       "    </tr>\n",
       "    <tr>\n",
       "      <th>taxamount</th>\n",
       "      <td>2148543.0</td>\n",
       "      <td>5.634881e+03</td>\n",
       "      <td>8.179022e+03</td>\n",
       "      <td>1.850000e+00</td>\n",
       "      <td>2.534920e+03</td>\n",
       "      <td>4.108900e+03</td>\n",
       "      <td>6.414300e+03</td>\n",
       "      <td>1.337756e+06</td>\n",
       "    </tr>\n",
       "    <tr>\n",
       "      <th>calculatedfinishedsquarefeet</th>\n",
       "      <td>2144500.0</td>\n",
       "      <td>1.862852e+03</td>\n",
       "      <td>1.222120e+03</td>\n",
       "      <td>1.000000e+00</td>\n",
       "      <td>1.257000e+03</td>\n",
       "      <td>1.623000e+03</td>\n",
       "      <td>2.208000e+03</td>\n",
       "      <td>9.525760e+05</td>\n",
       "    </tr>\n",
       "    <tr>\n",
       "      <th>predictions</th>\n",
       "      <td>52442.0</td>\n",
       "      <td>1.829437e-02</td>\n",
       "      <td>1.775018e-01</td>\n",
       "      <td>-4.655420e+00</td>\n",
       "      <td>-2.463935e-02</td>\n",
       "      <td>7.009984e-03</td>\n",
       "      <td>4.069098e-02</td>\n",
       "      <td>5.262999e+00</td>\n",
       "    </tr>\n",
       "  </tbody>\n",
       "</table>\n",
       "</div>"
      ],
      "text/plain": [
       "                                  count          mean           std  \\\n",
       "parcelid                      2152985.0  1.309662e+07  5.172434e+06   \n",
       "bathroomcnt                   2152974.0  2.230677e+00  9.992790e-01   \n",
       "bedroomcnt                    2152974.0  3.287195e+00  9.547910e-01   \n",
       "fips                          2152985.0  6.048377e+03  2.043332e+01   \n",
       "garagecarcnt                   698664.0  1.926653e+00  5.696367e-01   \n",
       "lotsizesquarefeet             2139544.0  1.107215e+04  2.656322e+05   \n",
       "yearbuilt                     2143646.0  1.960949e+03  2.216238e+01   \n",
       "taxvaluedollarcnt             2152492.0  4.618967e+05  6.996805e+05   \n",
       "taxamount                     2148543.0  5.634881e+03  8.179022e+03   \n",
       "calculatedfinishedsquarefeet  2144500.0  1.862852e+03  1.222120e+03   \n",
       "predictions                     52442.0  1.829437e-02  1.775018e-01   \n",
       "\n",
       "                                       min           25%           50%  \\\n",
       "parcelid                      1.071172e+07  1.165907e+07  1.259850e+07   \n",
       "bathroomcnt                   0.000000e+00  2.000000e+00  2.000000e+00   \n",
       "bedroomcnt                    0.000000e+00  3.000000e+00  3.000000e+00   \n",
       "fips                          6.037000e+03  6.037000e+03  6.037000e+03   \n",
       "garagecarcnt                  0.000000e+00  2.000000e+00  2.000000e+00   \n",
       "lotsizesquarefeet             1.000000e+02  5.633000e+03  6.760000e+03   \n",
       "yearbuilt                     1.801000e+03  1.949000e+03  1.958000e+03   \n",
       "taxvaluedollarcnt             1.000000e+00  1.881638e+05  3.276710e+05   \n",
       "taxamount                     1.850000e+00  2.534920e+03  4.108900e+03   \n",
       "calculatedfinishedsquarefeet  1.000000e+00  1.257000e+03  1.623000e+03   \n",
       "predictions                  -4.655420e+00 -2.463935e-02  7.009984e-03   \n",
       "\n",
       "                                       75%           max  \n",
       "parcelid                      1.405608e+07  1.696019e+08  \n",
       "bathroomcnt                   3.000000e+00  3.200000e+01  \n",
       "bedroomcnt                    4.000000e+00  2.500000e+01  \n",
       "fips                          6.059000e+03  6.111000e+03  \n",
       "garagecarcnt                  2.000000e+00  2.500000e+01  \n",
       "lotsizesquarefeet             8.551000e+03  3.710005e+08  \n",
       "yearbuilt                     1.976000e+03  2.016000e+03  \n",
       "taxvaluedollarcnt             5.345212e+05  9.842891e+07  \n",
       "taxamount                     6.414300e+03  1.337756e+06  \n",
       "calculatedfinishedsquarefeet  2.208000e+03  9.525760e+05  \n",
       "predictions                   4.069098e-02  5.262999e+00  "
      ]
     },
     "execution_count": 6,
     "metadata": {},
     "output_type": "execute_result"
    }
   ],
   "source": [
    "df.describe().T"
   ]
  },
  {
   "cell_type": "code",
   "execution_count": 8,
   "id": "10881f7c",
   "metadata": {},
   "outputs": [],
   "source": [
    "df = df.drop_duplicates()"
   ]
  },
  {
   "cell_type": "code",
   "execution_count": 9,
   "id": "5331eddd",
   "metadata": {},
   "outputs": [
    {
     "data": {
      "text/plain": [
       "(2152982, 11)"
      ]
     },
     "execution_count": 9,
     "metadata": {},
     "output_type": "execute_result"
    }
   ],
   "source": [
    "df.shape"
   ]
  },
  {
   "cell_type": "code",
   "execution_count": 10,
   "id": "84c7c6aa",
   "metadata": {
    "scrolled": true
   },
   "outputs": [
    {
     "data": {
      "text/html": [
       "<div>\n",
       "<style scoped>\n",
       "    .dataframe tbody tr th:only-of-type {\n",
       "        vertical-align: middle;\n",
       "    }\n",
       "\n",
       "    .dataframe tbody tr th {\n",
       "        vertical-align: top;\n",
       "    }\n",
       "\n",
       "    .dataframe thead th {\n",
       "        text-align: right;\n",
       "    }\n",
       "</style>\n",
       "<table border=\"1\" class=\"dataframe\">\n",
       "  <thead>\n",
       "    <tr style=\"text-align: right;\">\n",
       "      <th></th>\n",
       "      <th>parcelid</th>\n",
       "      <th>bathrooms</th>\n",
       "      <th>bedrooms</th>\n",
       "      <th>county_code</th>\n",
       "      <th>garage</th>\n",
       "      <th>lot_size</th>\n",
       "      <th>year_built</th>\n",
       "      <th>tax_value</th>\n",
       "      <th>tax_amount</th>\n",
       "      <th>square_feet</th>\n",
       "      <th>predictions</th>\n",
       "    </tr>\n",
       "  </thead>\n",
       "  <tbody>\n",
       "  </tbody>\n",
       "</table>\n",
       "</div>"
      ],
      "text/plain": [
       "Empty DataFrame\n",
       "Columns: [parcelid, bathrooms, bedrooms, county_code, garage, lot_size, year_built, tax_value, tax_amount, square_feet, predictions]\n",
       "Index: []"
      ]
     },
     "execution_count": 10,
     "metadata": {},
     "output_type": "execute_result"
    }
   ],
   "source": [
    "df = df.rename(columns={\"bedroomcnt\": \"bedrooms\", \"bathroomcnt\": \"bathrooms\", \"calculatedfinishedsquarefeet\":\"square_feet\", \"taxvaluedollarcnt\":\"tax_value\", \"yearbuilt\":\"year_built\", \"taxamount\":\"tax_amount\", \"fips\":\"county_code\", \"garagecarcnt\":\"garage\", \"lotsizesquarefeet\":\"lot_size\"})\n",
    "df.head(0)"
   ]
  },
  {
   "cell_type": "code",
   "execution_count": 37,
   "id": "37f93feb",
   "metadata": {
    "scrolled": true
   },
   "outputs": [
    {
     "name": "stdout",
     "output_type": "stream",
     "text": [
      "<class 'pandas.core.frame.DataFrame'>\n",
      "Int64Index: 2152982 entries, 0 to 2152984\n",
      "Data columns (total 11 columns):\n",
      " #   Column       Dtype \n",
      "---  ------       ----- \n",
      " 0   parcelid     object\n",
      " 1   bathrooms    int64 \n",
      " 2   bedrooms     int64 \n",
      " 3   county_code  object\n",
      " 4   garage       int64 \n",
      " 5   lot_size     object\n",
      " 6   year_built   object\n",
      " 7   tax_value    int64 \n",
      " 8   tax_amount   int64 \n",
      " 9   square_feet  int64 \n",
      " 10  predictions  int64 \n",
      "dtypes: int64(7), object(4)\n",
      "memory usage: 197.1+ MB\n"
     ]
    }
   ],
   "source": [
    "\n",
    "df.info()"
   ]
  },
  {
   "cell_type": "code",
   "execution_count": 17,
   "id": "07c50876",
   "metadata": {},
   "outputs": [],
   "source": [
    "df['bedrooms'] = df.bedrooms.fillna(value = 3)"
   ]
  },
  {
   "cell_type": "code",
   "execution_count": 18,
   "id": "04e09251",
   "metadata": {},
   "outputs": [],
   "source": [
    "df['bathrooms'] = df.bathrooms.fillna(value = 2.5)"
   ]
  },
  {
   "cell_type": "code",
   "execution_count": 21,
   "id": "7513ef99",
   "metadata": {},
   "outputs": [],
   "source": [
    "df['garage'] = df.garage.fillna(value = 2)"
   ]
  },
  {
   "cell_type": "code",
   "execution_count": 23,
   "id": "e4b01ddb",
   "metadata": {},
   "outputs": [],
   "source": [
    "df['tax_amount'] = df.tax_amount.fillna(value = df['tax_amount'].mean())"
   ]
  },
  {
   "cell_type": "code",
   "execution_count": 25,
   "id": "109136b0",
   "metadata": {},
   "outputs": [],
   "source": [
    "df['tax_value'] = df.tax_value.fillna(value = 45000)"
   ]
  },
  {
   "cell_type": "code",
   "execution_count": 27,
   "id": "9acf1393",
   "metadata": {},
   "outputs": [],
   "source": [
    "df['square_feet'] = df.square_feet.fillna(value = df['square_feet'].mean())"
   ]
  },
  {
   "cell_type": "code",
   "execution_count": 33,
   "id": "06ea3dc2",
   "metadata": {},
   "outputs": [],
   "source": [
    "df['predictions'] = df.predictions.fillna(value = df['predictions'].mean())"
   ]
  },
  {
   "cell_type": "code",
   "execution_count": 40,
   "id": "77c23cd2",
   "metadata": {},
   "outputs": [],
   "source": [
    "df['lot_size'] = df.lot_size.fillna(value = df['lot_size'].mean())"
   ]
  },
  {
   "cell_type": "code",
   "execution_count": 41,
   "id": "33e1f506",
   "metadata": {},
   "outputs": [
    {
     "name": "stdout",
     "output_type": "stream",
     "text": [
      "<class 'pandas.core.frame.DataFrame'>\n",
      "Int64Index: 2152982 entries, 0 to 2152984\n",
      "Data columns (total 11 columns):\n",
      " #   Column       Dtype \n",
      "---  ------       ----- \n",
      " 0   parcelid     object\n",
      " 1   bathrooms    int64 \n",
      " 2   bedrooms     int64 \n",
      " 3   county_code  object\n",
      " 4   garage       int64 \n",
      " 5   lot_size     int64 \n",
      " 6   year_built   object\n",
      " 7   tax_value    int64 \n",
      " 8   tax_amount   int64 \n",
      " 9   square_feet  int64 \n",
      " 10  predictions  int64 \n",
      "dtypes: int64(8), object(3)\n",
      "memory usage: 197.1+ MB\n"
     ]
    }
   ],
   "source": [
    "#converts floats to int \n",
    "convert_dict_int = {'bathrooms': int, 'bedrooms': int, \n",
    "                   'garage':int, 'tax_amount':int, 'tax_value':int,\n",
    "                   'square_feet':int, 'predictions':int, 'lot_size':int}\n",
    "df = df.astype(convert_dict_int)\n",
    "df.info()"
   ]
  },
  {
   "cell_type": "markdown",
   "id": "e65a149d",
   "metadata": {},
   "source": [
    "##### NOTES\n",
    "\n",
    "1. SQL zillow dataset\n",
    "2. property type - Single Family - 261\n",
    "3. .shape (2152863, 61)\n",
    "4. After initial data acquisition .shape (2152863, 16)\n",
    "    - From initial acquisition I kept the following columns:\n",
    "    - parcelid, basementsqft, bathroomcnt, bedroomcnt, fips, garagecarcnt, garagetotalsqft, lotsizesquarefeet, poolcnt, poolsizesum, roomcnt, unitcnt, yearbuilt, numberofstories, taxvaluedollarcnt, taxamount\n",
    "5. Dropped (based on qty of nulls): basementsqft, garagetotalsqft, poolcnt, poolsizesum, unitcnt, numberofstories, roomcnt\n",
    "6. Final .shape (2152985, 11)\n",
    "7. Drop duplicates (2152982, 11) \n",
    "8. Fill in nulls (as identified in wrangle.py)\n",
    "9. Drop columns\n",
    "10. Visualize\n",
    "11. Remove outliers"
   ]
  },
  {
   "cell_type": "markdown",
   "id": "faa1e63f",
   "metadata": {},
   "source": [
    "# Data Preparation"
   ]
  },
  {
   "cell_type": "markdown",
   "id": "9a0a398c",
   "metadata": {},
   "source": [
    "# Data Exploration"
   ]
  },
  {
   "cell_type": "markdown",
   "id": "3b4e321c",
   "metadata": {},
   "source": [
    "### Univariate"
   ]
  },
  {
   "cell_type": "code",
   "execution_count": null,
   "id": "b2899174",
   "metadata": {},
   "outputs": [],
   "source": [
    "explore.explore_univariate(train, cat_vars, quant_vars)"
   ]
  },
  {
   "cell_type": "markdown",
   "id": "da53acea",
   "metadata": {},
   "source": [
    "### Bivariate"
   ]
  },
  {
   "cell_type": "code",
   "execution_count": null,
   "id": "1bc22fe2",
   "metadata": {},
   "outputs": [],
   "source": [
    "#exploring split\n",
    "explore.explore_bivariate(train, target, cat_vars, quant_vars)"
   ]
  },
  {
   "cell_type": "markdown",
   "id": "c86b607c",
   "metadata": {},
   "source": [
    "### Multivariate"
   ]
  },
  {
   "cell_type": "code",
   "execution_count": null,
   "id": "d8d9549f",
   "metadata": {},
   "outputs": [],
   "source": [
    "#exploring  split\n",
    "explore.explore_multivariate(train, target, cat_vars, quant_vars)"
   ]
  },
  {
   "cell_type": "markdown",
   "id": "aaccd4da",
   "metadata": {},
   "source": [
    "# Hypothesis Testing"
   ]
  },
  {
   "cell_type": "markdown",
   "id": "1eb7c42f",
   "metadata": {},
   "source": [
    "# Modeling"
   ]
  },
  {
   "cell_type": "code",
   "execution_count": null,
   "id": "8e65acba",
   "metadata": {},
   "outputs": [],
   "source": []
  }
 ],
 "metadata": {
  "kernelspec": {
   "display_name": "Python 3",
   "language": "python",
   "name": "python3"
  },
  "language_info": {
   "codemirror_mode": {
    "name": "ipython",
    "version": 3
   },
   "file_extension": ".py",
   "mimetype": "text/x-python",
   "name": "python",
   "nbconvert_exporter": "python",
   "pygments_lexer": "ipython3",
   "version": "3.8.8"
  }
 },
 "nbformat": 4,
 "nbformat_minor": 5
}
